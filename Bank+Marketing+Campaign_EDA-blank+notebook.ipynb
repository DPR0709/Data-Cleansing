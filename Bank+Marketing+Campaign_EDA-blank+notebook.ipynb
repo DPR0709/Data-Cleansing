{
 "cells": [
  {
   "cell_type": "markdown",
   "metadata": {},
   "source": [
    "## Bank Telemarketing Campaign Case Study."
   ]
  },
  {
   "cell_type": "markdown",
   "metadata": {},
   "source": [
    "#### Problem Statement:"
   ]
  },
  {
   "cell_type": "markdown",
   "metadata": {},
   "source": [
    " \n",
    "\n",
    "The bank provides financial services/products such as savings accounts, current accounts, debit cards, etc. to its customers. In order to increase its overall revenue, the bank conducts various marketing campaigns for its financial products such as credit cards, term deposits, loans, etc. These campaigns are intended for the bank’s existing customers. However, the marketing campaigns need to be cost-efficient so that the bank not only increases their overall revenues but also the total profit. You need to apply your knowledge of EDA on the given dataset to analyse the patterns and provide inferences/solutions for the future marketing campaign.\n",
    "\n",
    "The bank conducted a telemarketing campaign for one of its financial products ‘Term Deposits’ to help foster long-term relationships with existing customers. The dataset contains information about all the customers who were contacted during a particular year to open term deposit accounts.\n",
    "\n",
    "\n",
    "**What is the term Deposit?**\n",
    "\n",
    "Term deposits also called fixed deposits, are the cash investments made for a specific time period ranging from 1 month to 5 years for predetermined fixed interest rates. The fixed interest rates offered for term deposits are higher than the regular interest rates for savings accounts. The customers receive the total amount (investment plus the interest) at the end of the maturity period. Also, the money can only be withdrawn at the end of the maturity period. Withdrawing money before that will result in an added penalty associated, and the customer will not receive any interest returns.\n",
    "\n",
    "Your target is to do end to end EDA on this bank telemarketing campaign data set to infer knowledge that where bank has to put more effort to improve it's positive response rate. "
   ]
  },
  {
   "cell_type": "markdown",
   "metadata": {},
   "source": [
    "#### Importing the libraries."
   ]
  },
  {
   "cell_type": "code",
   "execution_count": 1,
   "metadata": {},
   "outputs": [],
   "source": [
    "#import the warnings.\n",
    "import warnings\n",
    "warnings.filterwarnings('ignore')"
   ]
  },
  {
   "cell_type": "code",
   "execution_count": 2,
   "metadata": {},
   "outputs": [],
   "source": [
    "#import the useful libraries.\n",
    "import pandas as pd,numpy as np\n",
    "import matplotlib.pyplot as plt, seaborn as sns"
   ]
  },
  {
   "cell_type": "markdown",
   "metadata": {},
   "source": [
    "# Data Cleaning "
   ]
  },
  {
   "cell_type": "markdown",
   "metadata": {},
   "source": [
    "###  Data Types "
   ]
  },
  {
   "cell_type": "markdown",
   "metadata": {},
   "source": [
    "There are multiple types of data types available in the data set. some of them are numerical type and some of categorical type. You are required to get the idea about the data types after reading the data frame. \n",
    "\n",
    "Following are the some of the types of variables:\n",
    "- **Numeric data type**: banking dataset: salary, balance, duration and age.\n",
    "- **Categorical data type**: banking dataset: education, job, marital, poutcome and month etc.\n",
    "- **Ordinal data type**: banking dataset: Age group.\n",
    "- **Time and date type** \n",
    "- **Coordinates type of data**: latitude and longitude type.\n"
   ]
  },
  {
   "cell_type": "markdown",
   "metadata": {},
   "source": [
    "#### Read in the Data set. "
   ]
  },
  {
   "cell_type": "code",
   "execution_count": 3,
   "metadata": {},
   "outputs": [],
   "source": [
    "#read the data set of \"bank telemarketing campaign\" in inp0.\n",
    "inp0= pd.read_csv(\"bank_marketing_updated_v1.csv\")"
   ]
  },
  {
   "cell_type": "code",
   "execution_count": 4,
   "metadata": {},
   "outputs": [
    {
     "data": {
      "text/html": [
       "<div>\n",
       "<style scoped>\n",
       "    .dataframe tbody tr th:only-of-type {\n",
       "        vertical-align: middle;\n",
       "    }\n",
       "\n",
       "    .dataframe tbody tr th {\n",
       "        vertical-align: top;\n",
       "    }\n",
       "\n",
       "    .dataframe thead th {\n",
       "        text-align: right;\n",
       "    }\n",
       "</style>\n",
       "<table border=\"1\" class=\"dataframe\">\n",
       "  <thead>\n",
       "    <tr style=\"text-align: right;\">\n",
       "      <th></th>\n",
       "      <th>banking marketing</th>\n",
       "      <th>Unnamed: 1</th>\n",
       "      <th>Unnamed: 2</th>\n",
       "      <th>Unnamed: 3</th>\n",
       "      <th>Unnamed: 4</th>\n",
       "      <th>Unnamed: 5</th>\n",
       "      <th>Unnamed: 6</th>\n",
       "      <th>Unnamed: 7</th>\n",
       "      <th>Unnamed: 8</th>\n",
       "      <th>Unnamed: 9</th>\n",
       "      <th>Unnamed: 10</th>\n",
       "      <th>Unnamed: 11</th>\n",
       "      <th>Unnamed: 12</th>\n",
       "      <th>Unnamed: 13</th>\n",
       "      <th>Unnamed: 14</th>\n",
       "      <th>Unnamed: 15</th>\n",
       "      <th>Unnamed: 16</th>\n",
       "      <th>Unnamed: 17</th>\n",
       "      <th>Unnamed: 18</th>\n",
       "    </tr>\n",
       "  </thead>\n",
       "  <tbody>\n",
       "    <tr>\n",
       "      <th>0</th>\n",
       "      <td>customer id and age.</td>\n",
       "      <td>NaN</td>\n",
       "      <td>Customer salary and balance.</td>\n",
       "      <td>NaN</td>\n",
       "      <td>Customer marital status and job with education...</td>\n",
       "      <td>NaN</td>\n",
       "      <td>particular customer before targeted or not</td>\n",
       "      <td>NaN</td>\n",
       "      <td>Loan types: loans or housing loans</td>\n",
       "      <td>NaN</td>\n",
       "      <td>Contact type</td>\n",
       "      <td>NaN</td>\n",
       "      <td>month of contact</td>\n",
       "      <td>duration of call</td>\n",
       "      <td>NaN</td>\n",
       "      <td>NaN</td>\n",
       "      <td>NaN</td>\n",
       "      <td>outcome of previous contact</td>\n",
       "      <td>response of customer after call happned</td>\n",
       "    </tr>\n",
       "    <tr>\n",
       "      <th>1</th>\n",
       "      <td>customerid</td>\n",
       "      <td>age</td>\n",
       "      <td>salary</td>\n",
       "      <td>balance</td>\n",
       "      <td>marital</td>\n",
       "      <td>jobedu</td>\n",
       "      <td>targeted</td>\n",
       "      <td>default</td>\n",
       "      <td>housing</td>\n",
       "      <td>loan</td>\n",
       "      <td>contact</td>\n",
       "      <td>day</td>\n",
       "      <td>month</td>\n",
       "      <td>duration</td>\n",
       "      <td>campaign</td>\n",
       "      <td>pdays</td>\n",
       "      <td>previous</td>\n",
       "      <td>poutcome</td>\n",
       "      <td>response</td>\n",
       "    </tr>\n",
       "    <tr>\n",
       "      <th>2</th>\n",
       "      <td>1</td>\n",
       "      <td>58</td>\n",
       "      <td>100000</td>\n",
       "      <td>2143</td>\n",
       "      <td>married</td>\n",
       "      <td>management,tertiary</td>\n",
       "      <td>yes</td>\n",
       "      <td>no</td>\n",
       "      <td>yes</td>\n",
       "      <td>no</td>\n",
       "      <td>unknown</td>\n",
       "      <td>5</td>\n",
       "      <td>may, 2017</td>\n",
       "      <td>261 sec</td>\n",
       "      <td>1</td>\n",
       "      <td>-1</td>\n",
       "      <td>0</td>\n",
       "      <td>unknown</td>\n",
       "      <td>no</td>\n",
       "    </tr>\n",
       "    <tr>\n",
       "      <th>3</th>\n",
       "      <td>2</td>\n",
       "      <td>44</td>\n",
       "      <td>60000</td>\n",
       "      <td>29</td>\n",
       "      <td>single</td>\n",
       "      <td>technician,secondary</td>\n",
       "      <td>yes</td>\n",
       "      <td>no</td>\n",
       "      <td>yes</td>\n",
       "      <td>no</td>\n",
       "      <td>unknown</td>\n",
       "      <td>5</td>\n",
       "      <td>may, 2017</td>\n",
       "      <td>151 sec</td>\n",
       "      <td>1</td>\n",
       "      <td>-1</td>\n",
       "      <td>0</td>\n",
       "      <td>unknown</td>\n",
       "      <td>no</td>\n",
       "    </tr>\n",
       "    <tr>\n",
       "      <th>4</th>\n",
       "      <td>3</td>\n",
       "      <td>33</td>\n",
       "      <td>120000</td>\n",
       "      <td>2</td>\n",
       "      <td>married</td>\n",
       "      <td>entrepreneur,secondary</td>\n",
       "      <td>yes</td>\n",
       "      <td>no</td>\n",
       "      <td>yes</td>\n",
       "      <td>yes</td>\n",
       "      <td>unknown</td>\n",
       "      <td>5</td>\n",
       "      <td>may, 2017</td>\n",
       "      <td>76 sec</td>\n",
       "      <td>1</td>\n",
       "      <td>-1</td>\n",
       "      <td>0</td>\n",
       "      <td>unknown</td>\n",
       "      <td>no</td>\n",
       "    </tr>\n",
       "  </tbody>\n",
       "</table>\n",
       "</div>"
      ],
      "text/plain": [
       "      banking marketing Unnamed: 1                    Unnamed: 2 Unnamed: 3  \\\n",
       "0  customer id and age.        NaN  Customer salary and balance.        NaN   \n",
       "1            customerid        age                        salary    balance   \n",
       "2                     1         58                        100000       2143   \n",
       "3                     2         44                         60000         29   \n",
       "4                     3         33                        120000          2   \n",
       "\n",
       "                                          Unnamed: 4              Unnamed: 5  \\\n",
       "0  Customer marital status and job with education...                     NaN   \n",
       "1                                            marital                  jobedu   \n",
       "2                                            married     management,tertiary   \n",
       "3                                             single    technician,secondary   \n",
       "4                                            married  entrepreneur,secondary   \n",
       "\n",
       "                                   Unnamed: 6 Unnamed: 7  \\\n",
       "0  particular customer before targeted or not        NaN   \n",
       "1                                    targeted    default   \n",
       "2                                         yes         no   \n",
       "3                                         yes         no   \n",
       "4                                         yes         no   \n",
       "\n",
       "                           Unnamed: 8 Unnamed: 9   Unnamed: 10 Unnamed: 11  \\\n",
       "0  Loan types: loans or housing loans        NaN  Contact type         NaN   \n",
       "1                             housing       loan       contact         day   \n",
       "2                                 yes         no       unknown           5   \n",
       "3                                 yes         no       unknown           5   \n",
       "4                                 yes        yes       unknown           5   \n",
       "\n",
       "        Unnamed: 12       Unnamed: 13 Unnamed: 14 Unnamed: 15 Unnamed: 16  \\\n",
       "0  month of contact  duration of call         NaN         NaN         NaN   \n",
       "1             month          duration    campaign       pdays    previous   \n",
       "2         may, 2017           261 sec           1          -1           0   \n",
       "3         may, 2017           151 sec           1          -1           0   \n",
       "4         may, 2017            76 sec           1          -1           0   \n",
       "\n",
       "                   Unnamed: 17                              Unnamed: 18  \n",
       "0  outcome of previous contact  response of customer after call happned  \n",
       "1                     poutcome                                 response  \n",
       "2                      unknown                                       no  \n",
       "3                      unknown                                       no  \n",
       "4                      unknown                                       no  "
      ]
     },
     "execution_count": 4,
     "metadata": {},
     "output_type": "execute_result"
    }
   ],
   "source": [
    "#Print the head of the data frame.\n",
    "inp0.head()"
   ]
  },
  {
   "cell_type": "code",
   "execution_count": 5,
   "metadata": {},
   "outputs": [],
   "source": [
    "# first two rows in the data are not needed and can be deleted . Hence, now starts the Data cleaning process"
   ]
  },
  {
   "cell_type": "markdown",
   "metadata": {},
   "source": [
    "###  Fixing the Rows and Columns "
   ]
  },
  {
   "cell_type": "markdown",
   "metadata": {},
   "source": [
    "Checklist for fixing rows:\n",
    "- **Delete summary rows**: Total and Subtotal rows\n",
    "- **Delete incorrect rows**: Header row and footer row\n",
    "- **Delete extra rows**: Column number, indicators, Blank rows, Page No.\n",
    "\n",
    "Checklist for fixing columns:\n",
    "- **Merge columns for creating unique identifiers**, if needed, for example, merge the columns State and City into the column Full address.\n",
    "- **Split columns to get more data**: Split the Address column to get State and City columns to analyse each separately. \n",
    "- **Add column names**: Add column names if missing.\n",
    "- **Rename columns consistently**: Abbreviations, encoded columns.\n",
    "- **Delete columns**: Delete unnecessary columns.\n",
    "- **Align misaligned columns**: The data set may have shifted columns, which you need to align correctly.\n"
   ]
  },
  {
   "cell_type": "markdown",
   "metadata": {},
   "source": [
    "#### Read the file without unnecessary headers."
   ]
  },
  {
   "cell_type": "code",
   "execution_count": 6,
   "metadata": {},
   "outputs": [],
   "source": [
    "#read the file in inp0 without first two rows as it is of no use.\n",
    "inp0 = pd.read_csv(\"bank_marketing_updated_v1.csv\",skiprows=2)"
   ]
  },
  {
   "cell_type": "code",
   "execution_count": 7,
   "metadata": {},
   "outputs": [
    {
     "data": {
      "text/html": [
       "<div>\n",
       "<style scoped>\n",
       "    .dataframe tbody tr th:only-of-type {\n",
       "        vertical-align: middle;\n",
       "    }\n",
       "\n",
       "    .dataframe tbody tr th {\n",
       "        vertical-align: top;\n",
       "    }\n",
       "\n",
       "    .dataframe thead th {\n",
       "        text-align: right;\n",
       "    }\n",
       "</style>\n",
       "<table border=\"1\" class=\"dataframe\">\n",
       "  <thead>\n",
       "    <tr style=\"text-align: right;\">\n",
       "      <th></th>\n",
       "      <th>age</th>\n",
       "      <th>salary</th>\n",
       "      <th>balance</th>\n",
       "      <th>marital</th>\n",
       "      <th>jobedu</th>\n",
       "      <th>targeted</th>\n",
       "      <th>default</th>\n",
       "      <th>housing</th>\n",
       "      <th>loan</th>\n",
       "      <th>contact</th>\n",
       "      <th>day</th>\n",
       "      <th>month</th>\n",
       "      <th>duration</th>\n",
       "      <th>campaign</th>\n",
       "      <th>pdays</th>\n",
       "      <th>previous</th>\n",
       "      <th>poutcome</th>\n",
       "      <th>response</th>\n",
       "    </tr>\n",
       "  </thead>\n",
       "  <tbody>\n",
       "    <tr>\n",
       "      <th>0</th>\n",
       "      <td>58.0</td>\n",
       "      <td>100000</td>\n",
       "      <td>2143</td>\n",
       "      <td>married</td>\n",
       "      <td>management,tertiary</td>\n",
       "      <td>yes</td>\n",
       "      <td>no</td>\n",
       "      <td>yes</td>\n",
       "      <td>no</td>\n",
       "      <td>unknown</td>\n",
       "      <td>5</td>\n",
       "      <td>may, 2017</td>\n",
       "      <td>261 sec</td>\n",
       "      <td>1</td>\n",
       "      <td>-1</td>\n",
       "      <td>0</td>\n",
       "      <td>unknown</td>\n",
       "      <td>no</td>\n",
       "    </tr>\n",
       "    <tr>\n",
       "      <th>1</th>\n",
       "      <td>44.0</td>\n",
       "      <td>60000</td>\n",
       "      <td>29</td>\n",
       "      <td>single</td>\n",
       "      <td>technician,secondary</td>\n",
       "      <td>yes</td>\n",
       "      <td>no</td>\n",
       "      <td>yes</td>\n",
       "      <td>no</td>\n",
       "      <td>unknown</td>\n",
       "      <td>5</td>\n",
       "      <td>may, 2017</td>\n",
       "      <td>151 sec</td>\n",
       "      <td>1</td>\n",
       "      <td>-1</td>\n",
       "      <td>0</td>\n",
       "      <td>unknown</td>\n",
       "      <td>no</td>\n",
       "    </tr>\n",
       "    <tr>\n",
       "      <th>2</th>\n",
       "      <td>33.0</td>\n",
       "      <td>120000</td>\n",
       "      <td>2</td>\n",
       "      <td>married</td>\n",
       "      <td>entrepreneur,secondary</td>\n",
       "      <td>yes</td>\n",
       "      <td>no</td>\n",
       "      <td>yes</td>\n",
       "      <td>yes</td>\n",
       "      <td>unknown</td>\n",
       "      <td>5</td>\n",
       "      <td>may, 2017</td>\n",
       "      <td>76 sec</td>\n",
       "      <td>1</td>\n",
       "      <td>-1</td>\n",
       "      <td>0</td>\n",
       "      <td>unknown</td>\n",
       "      <td>no</td>\n",
       "    </tr>\n",
       "    <tr>\n",
       "      <th>3</th>\n",
       "      <td>47.0</td>\n",
       "      <td>20000</td>\n",
       "      <td>1506</td>\n",
       "      <td>married</td>\n",
       "      <td>blue-collar,unknown</td>\n",
       "      <td>no</td>\n",
       "      <td>no</td>\n",
       "      <td>yes</td>\n",
       "      <td>no</td>\n",
       "      <td>unknown</td>\n",
       "      <td>5</td>\n",
       "      <td>may, 2017</td>\n",
       "      <td>92 sec</td>\n",
       "      <td>1</td>\n",
       "      <td>-1</td>\n",
       "      <td>0</td>\n",
       "      <td>unknown</td>\n",
       "      <td>no</td>\n",
       "    </tr>\n",
       "    <tr>\n",
       "      <th>4</th>\n",
       "      <td>33.0</td>\n",
       "      <td>0</td>\n",
       "      <td>1</td>\n",
       "      <td>single</td>\n",
       "      <td>unknown,unknown</td>\n",
       "      <td>no</td>\n",
       "      <td>no</td>\n",
       "      <td>no</td>\n",
       "      <td>no</td>\n",
       "      <td>unknown</td>\n",
       "      <td>5</td>\n",
       "      <td>may, 2017</td>\n",
       "      <td>198 sec</td>\n",
       "      <td>1</td>\n",
       "      <td>-1</td>\n",
       "      <td>0</td>\n",
       "      <td>unknown</td>\n",
       "      <td>no</td>\n",
       "    </tr>\n",
       "  </tbody>\n",
       "</table>\n",
       "</div>"
      ],
      "text/plain": [
       "    age  salary  balance  marital                  jobedu targeted default  \\\n",
       "0  58.0  100000     2143  married     management,tertiary      yes      no   \n",
       "1  44.0   60000       29   single    technician,secondary      yes      no   \n",
       "2  33.0  120000        2  married  entrepreneur,secondary      yes      no   \n",
       "3  47.0   20000     1506  married     blue-collar,unknown       no      no   \n",
       "4  33.0       0        1   single         unknown,unknown       no      no   \n",
       "\n",
       "  housing loan  contact  day      month duration  campaign  pdays  previous  \\\n",
       "0     yes   no  unknown    5  may, 2017  261 sec         1     -1         0   \n",
       "1     yes   no  unknown    5  may, 2017  151 sec         1     -1         0   \n",
       "2     yes  yes  unknown    5  may, 2017   76 sec         1     -1         0   \n",
       "3     yes   no  unknown    5  may, 2017   92 sec         1     -1         0   \n",
       "4      no   no  unknown    5  may, 2017  198 sec         1     -1         0   \n",
       "\n",
       "  poutcome response  \n",
       "0  unknown       no  \n",
       "1  unknown       no  \n",
       "2  unknown       no  \n",
       "3  unknown       no  \n",
       "4  unknown       no  "
      ]
     },
     "execution_count": 7,
     "metadata": {},
     "output_type": "execute_result"
    }
   ],
   "source": [
    "#print the head of the data frame.\n",
    "inp0.head()\n",
    "#drop the customer id as it is of no use.\n",
    "inp0.drop(columns=\"customerid\",inplace=True)\n",
    "inp0.head()"
   ]
  },
  {
   "cell_type": "code",
   "execution_count": 8,
   "metadata": {},
   "outputs": [
    {
     "name": "stdout",
     "output_type": "stream",
     "text": [
      "<class 'pandas.core.frame.DataFrame'>\n",
      "RangeIndex: 45211 entries, 0 to 45210\n",
      "Data columns (total 18 columns):\n",
      "age         45191 non-null float64\n",
      "salary      45211 non-null int64\n",
      "balance     45211 non-null int64\n",
      "marital     45211 non-null object\n",
      "jobedu      45211 non-null object\n",
      "targeted    45211 non-null object\n",
      "default     45211 non-null object\n",
      "housing     45211 non-null object\n",
      "loan        45211 non-null object\n",
      "contact     45211 non-null object\n",
      "day         45211 non-null int64\n",
      "month       45161 non-null object\n",
      "duration    45211 non-null object\n",
      "campaign    45211 non-null int64\n",
      "pdays       45211 non-null int64\n",
      "previous    45211 non-null int64\n",
      "poutcome    45211 non-null object\n",
      "response    45181 non-null object\n",
      "dtypes: float64(1), int64(6), object(11)\n",
      "memory usage: 4.3+ MB\n"
     ]
    }
   ],
   "source": [
    "#print the information of variables to check their data types.\n",
    "inp0.info()"
   ]
  },
  {
   "cell_type": "code",
   "execution_count": 10,
   "metadata": {},
   "outputs": [
    {
     "ename": "ValueError",
     "evalue": "Cannot convert non-finite values (NA or inf) to integer",
     "output_type": "error",
     "traceback": [
      "\u001b[1;31m---------------------------------------------------------------------------\u001b[0m",
      "\u001b[1;31mValueError\u001b[0m                                Traceback (most recent call last)",
      "\u001b[1;32m<ipython-input-10-70675930e468>\u001b[0m in \u001b[0;36m<module>\u001b[1;34m\u001b[0m\n\u001b[0;32m      1\u001b[0m \u001b[1;31m#convert the age variable data type from float to integer.This cant be done because age column has missing values.\u001b[0m\u001b[1;33m\u001b[0m\u001b[1;33m\u001b[0m\u001b[1;33m\u001b[0m\u001b[0m\n\u001b[1;32m----> 2\u001b[1;33m \u001b[0minp0\u001b[0m\u001b[1;33m[\u001b[0m\u001b[1;34m\"age\"\u001b[0m\u001b[1;33m]\u001b[0m \u001b[1;33m=\u001b[0m \u001b[0minp0\u001b[0m\u001b[1;33m[\u001b[0m\u001b[1;34m\"age\"\u001b[0m\u001b[1;33m]\u001b[0m\u001b[1;33m.\u001b[0m\u001b[0mastype\u001b[0m\u001b[1;33m(\u001b[0m\u001b[0mint\u001b[0m\u001b[1;33m)\u001b[0m\u001b[1;33m\u001b[0m\u001b[1;33m\u001b[0m\u001b[0m\n\u001b[0m",
      "\u001b[1;32mc:\\users\\dpriyareddypothul\\appdata\\local\\programs\\python\\python37-32\\lib\\site-packages\\pandas\\core\\generic.py\u001b[0m in \u001b[0;36mastype\u001b[1;34m(self, dtype, copy, errors, **kwargs)\u001b[0m\n\u001b[0;32m   5880\u001b[0m             \u001b[1;31m# else, only a single dtype is given\u001b[0m\u001b[1;33m\u001b[0m\u001b[1;33m\u001b[0m\u001b[1;33m\u001b[0m\u001b[0m\n\u001b[0;32m   5881\u001b[0m             new_data = self._data.astype(\n\u001b[1;32m-> 5882\u001b[1;33m                 \u001b[0mdtype\u001b[0m\u001b[1;33m=\u001b[0m\u001b[0mdtype\u001b[0m\u001b[1;33m,\u001b[0m \u001b[0mcopy\u001b[0m\u001b[1;33m=\u001b[0m\u001b[0mcopy\u001b[0m\u001b[1;33m,\u001b[0m \u001b[0merrors\u001b[0m\u001b[1;33m=\u001b[0m\u001b[0merrors\u001b[0m\u001b[1;33m,\u001b[0m \u001b[1;33m**\u001b[0m\u001b[0mkwargs\u001b[0m\u001b[1;33m\u001b[0m\u001b[1;33m\u001b[0m\u001b[0m\n\u001b[0m\u001b[0;32m   5883\u001b[0m             )\n\u001b[0;32m   5884\u001b[0m             \u001b[1;32mreturn\u001b[0m \u001b[0mself\u001b[0m\u001b[1;33m.\u001b[0m\u001b[0m_constructor\u001b[0m\u001b[1;33m(\u001b[0m\u001b[0mnew_data\u001b[0m\u001b[1;33m)\u001b[0m\u001b[1;33m.\u001b[0m\u001b[0m__finalize__\u001b[0m\u001b[1;33m(\u001b[0m\u001b[0mself\u001b[0m\u001b[1;33m)\u001b[0m\u001b[1;33m\u001b[0m\u001b[1;33m\u001b[0m\u001b[0m\n",
      "\u001b[1;32mc:\\users\\dpriyareddypothul\\appdata\\local\\programs\\python\\python37-32\\lib\\site-packages\\pandas\\core\\internals\\managers.py\u001b[0m in \u001b[0;36mastype\u001b[1;34m(self, dtype, **kwargs)\u001b[0m\n\u001b[0;32m    579\u001b[0m \u001b[1;33m\u001b[0m\u001b[0m\n\u001b[0;32m    580\u001b[0m     \u001b[1;32mdef\u001b[0m \u001b[0mastype\u001b[0m\u001b[1;33m(\u001b[0m\u001b[0mself\u001b[0m\u001b[1;33m,\u001b[0m \u001b[0mdtype\u001b[0m\u001b[1;33m,\u001b[0m \u001b[1;33m**\u001b[0m\u001b[0mkwargs\u001b[0m\u001b[1;33m)\u001b[0m\u001b[1;33m:\u001b[0m\u001b[1;33m\u001b[0m\u001b[1;33m\u001b[0m\u001b[0m\n\u001b[1;32m--> 581\u001b[1;33m         \u001b[1;32mreturn\u001b[0m \u001b[0mself\u001b[0m\u001b[1;33m.\u001b[0m\u001b[0mapply\u001b[0m\u001b[1;33m(\u001b[0m\u001b[1;34m\"astype\"\u001b[0m\u001b[1;33m,\u001b[0m \u001b[0mdtype\u001b[0m\u001b[1;33m=\u001b[0m\u001b[0mdtype\u001b[0m\u001b[1;33m,\u001b[0m \u001b[1;33m**\u001b[0m\u001b[0mkwargs\u001b[0m\u001b[1;33m)\u001b[0m\u001b[1;33m\u001b[0m\u001b[1;33m\u001b[0m\u001b[0m\n\u001b[0m\u001b[0;32m    582\u001b[0m \u001b[1;33m\u001b[0m\u001b[0m\n\u001b[0;32m    583\u001b[0m     \u001b[1;32mdef\u001b[0m \u001b[0mconvert\u001b[0m\u001b[1;33m(\u001b[0m\u001b[0mself\u001b[0m\u001b[1;33m,\u001b[0m \u001b[1;33m**\u001b[0m\u001b[0mkwargs\u001b[0m\u001b[1;33m)\u001b[0m\u001b[1;33m:\u001b[0m\u001b[1;33m\u001b[0m\u001b[1;33m\u001b[0m\u001b[0m\n",
      "\u001b[1;32mc:\\users\\dpriyareddypothul\\appdata\\local\\programs\\python\\python37-32\\lib\\site-packages\\pandas\\core\\internals\\managers.py\u001b[0m in \u001b[0;36mapply\u001b[1;34m(self, f, axes, filter, do_integrity_check, consolidate, **kwargs)\u001b[0m\n\u001b[0;32m    436\u001b[0m                     \u001b[0mkwargs\u001b[0m\u001b[1;33m[\u001b[0m\u001b[0mk\u001b[0m\u001b[1;33m]\u001b[0m \u001b[1;33m=\u001b[0m \u001b[0mobj\u001b[0m\u001b[1;33m.\u001b[0m\u001b[0mreindex\u001b[0m\u001b[1;33m(\u001b[0m\u001b[0mb_items\u001b[0m\u001b[1;33m,\u001b[0m \u001b[0maxis\u001b[0m\u001b[1;33m=\u001b[0m\u001b[0maxis\u001b[0m\u001b[1;33m,\u001b[0m \u001b[0mcopy\u001b[0m\u001b[1;33m=\u001b[0m\u001b[0malign_copy\u001b[0m\u001b[1;33m)\u001b[0m\u001b[1;33m\u001b[0m\u001b[1;33m\u001b[0m\u001b[0m\n\u001b[0;32m    437\u001b[0m \u001b[1;33m\u001b[0m\u001b[0m\n\u001b[1;32m--> 438\u001b[1;33m             \u001b[0mapplied\u001b[0m \u001b[1;33m=\u001b[0m \u001b[0mgetattr\u001b[0m\u001b[1;33m(\u001b[0m\u001b[0mb\u001b[0m\u001b[1;33m,\u001b[0m \u001b[0mf\u001b[0m\u001b[1;33m)\u001b[0m\u001b[1;33m(\u001b[0m\u001b[1;33m**\u001b[0m\u001b[0mkwargs\u001b[0m\u001b[1;33m)\u001b[0m\u001b[1;33m\u001b[0m\u001b[1;33m\u001b[0m\u001b[0m\n\u001b[0m\u001b[0;32m    439\u001b[0m             \u001b[0mresult_blocks\u001b[0m \u001b[1;33m=\u001b[0m \u001b[0m_extend_blocks\u001b[0m\u001b[1;33m(\u001b[0m\u001b[0mapplied\u001b[0m\u001b[1;33m,\u001b[0m \u001b[0mresult_blocks\u001b[0m\u001b[1;33m)\u001b[0m\u001b[1;33m\u001b[0m\u001b[1;33m\u001b[0m\u001b[0m\n\u001b[0;32m    440\u001b[0m \u001b[1;33m\u001b[0m\u001b[0m\n",
      "\u001b[1;32mc:\\users\\dpriyareddypothul\\appdata\\local\\programs\\python\\python37-32\\lib\\site-packages\\pandas\\core\\internals\\blocks.py\u001b[0m in \u001b[0;36mastype\u001b[1;34m(self, dtype, copy, errors, values, **kwargs)\u001b[0m\n\u001b[0;32m    557\u001b[0m \u001b[1;33m\u001b[0m\u001b[0m\n\u001b[0;32m    558\u001b[0m     \u001b[1;32mdef\u001b[0m \u001b[0mastype\u001b[0m\u001b[1;33m(\u001b[0m\u001b[0mself\u001b[0m\u001b[1;33m,\u001b[0m \u001b[0mdtype\u001b[0m\u001b[1;33m,\u001b[0m \u001b[0mcopy\u001b[0m\u001b[1;33m=\u001b[0m\u001b[1;32mFalse\u001b[0m\u001b[1;33m,\u001b[0m \u001b[0merrors\u001b[0m\u001b[1;33m=\u001b[0m\u001b[1;34m\"raise\"\u001b[0m\u001b[1;33m,\u001b[0m \u001b[0mvalues\u001b[0m\u001b[1;33m=\u001b[0m\u001b[1;32mNone\u001b[0m\u001b[1;33m,\u001b[0m \u001b[1;33m**\u001b[0m\u001b[0mkwargs\u001b[0m\u001b[1;33m)\u001b[0m\u001b[1;33m:\u001b[0m\u001b[1;33m\u001b[0m\u001b[1;33m\u001b[0m\u001b[0m\n\u001b[1;32m--> 559\u001b[1;33m         \u001b[1;32mreturn\u001b[0m \u001b[0mself\u001b[0m\u001b[1;33m.\u001b[0m\u001b[0m_astype\u001b[0m\u001b[1;33m(\u001b[0m\u001b[0mdtype\u001b[0m\u001b[1;33m,\u001b[0m \u001b[0mcopy\u001b[0m\u001b[1;33m=\u001b[0m\u001b[0mcopy\u001b[0m\u001b[1;33m,\u001b[0m \u001b[0merrors\u001b[0m\u001b[1;33m=\u001b[0m\u001b[0merrors\u001b[0m\u001b[1;33m,\u001b[0m \u001b[0mvalues\u001b[0m\u001b[1;33m=\u001b[0m\u001b[0mvalues\u001b[0m\u001b[1;33m,\u001b[0m \u001b[1;33m**\u001b[0m\u001b[0mkwargs\u001b[0m\u001b[1;33m)\u001b[0m\u001b[1;33m\u001b[0m\u001b[1;33m\u001b[0m\u001b[0m\n\u001b[0m\u001b[0;32m    560\u001b[0m \u001b[1;33m\u001b[0m\u001b[0m\n\u001b[0;32m    561\u001b[0m     \u001b[1;32mdef\u001b[0m \u001b[0m_astype\u001b[0m\u001b[1;33m(\u001b[0m\u001b[0mself\u001b[0m\u001b[1;33m,\u001b[0m \u001b[0mdtype\u001b[0m\u001b[1;33m,\u001b[0m \u001b[0mcopy\u001b[0m\u001b[1;33m=\u001b[0m\u001b[1;32mFalse\u001b[0m\u001b[1;33m,\u001b[0m \u001b[0merrors\u001b[0m\u001b[1;33m=\u001b[0m\u001b[1;34m\"raise\"\u001b[0m\u001b[1;33m,\u001b[0m \u001b[0mvalues\u001b[0m\u001b[1;33m=\u001b[0m\u001b[1;32mNone\u001b[0m\u001b[1;33m,\u001b[0m \u001b[1;33m**\u001b[0m\u001b[0mkwargs\u001b[0m\u001b[1;33m)\u001b[0m\u001b[1;33m:\u001b[0m\u001b[1;33m\u001b[0m\u001b[1;33m\u001b[0m\u001b[0m\n",
      "\u001b[1;32mc:\\users\\dpriyareddypothul\\appdata\\local\\programs\\python\\python37-32\\lib\\site-packages\\pandas\\core\\internals\\blocks.py\u001b[0m in \u001b[0;36m_astype\u001b[1;34m(self, dtype, copy, errors, values, **kwargs)\u001b[0m\n\u001b[0;32m    641\u001b[0m                     \u001b[1;31m# _astype_nansafe works fine with 1-d only\u001b[0m\u001b[1;33m\u001b[0m\u001b[1;33m\u001b[0m\u001b[1;33m\u001b[0m\u001b[0m\n\u001b[0;32m    642\u001b[0m                     \u001b[0mvals1d\u001b[0m \u001b[1;33m=\u001b[0m \u001b[0mvalues\u001b[0m\u001b[1;33m.\u001b[0m\u001b[0mravel\u001b[0m\u001b[1;33m(\u001b[0m\u001b[1;33m)\u001b[0m\u001b[1;33m\u001b[0m\u001b[1;33m\u001b[0m\u001b[0m\n\u001b[1;32m--> 643\u001b[1;33m                     \u001b[0mvalues\u001b[0m \u001b[1;33m=\u001b[0m \u001b[0mastype_nansafe\u001b[0m\u001b[1;33m(\u001b[0m\u001b[0mvals1d\u001b[0m\u001b[1;33m,\u001b[0m \u001b[0mdtype\u001b[0m\u001b[1;33m,\u001b[0m \u001b[0mcopy\u001b[0m\u001b[1;33m=\u001b[0m\u001b[1;32mTrue\u001b[0m\u001b[1;33m,\u001b[0m \u001b[1;33m**\u001b[0m\u001b[0mkwargs\u001b[0m\u001b[1;33m)\u001b[0m\u001b[1;33m\u001b[0m\u001b[1;33m\u001b[0m\u001b[0m\n\u001b[0m\u001b[0;32m    644\u001b[0m \u001b[1;33m\u001b[0m\u001b[0m\n\u001b[0;32m    645\u001b[0m                 \u001b[1;31m# TODO(extension)\u001b[0m\u001b[1;33m\u001b[0m\u001b[1;33m\u001b[0m\u001b[1;33m\u001b[0m\u001b[0m\n",
      "\u001b[1;32mc:\\users\\dpriyareddypothul\\appdata\\local\\programs\\python\\python37-32\\lib\\site-packages\\pandas\\core\\dtypes\\cast.py\u001b[0m in \u001b[0;36mastype_nansafe\u001b[1;34m(arr, dtype, copy, skipna)\u001b[0m\n\u001b[0;32m    698\u001b[0m         \u001b[1;32mif\u001b[0m \u001b[1;32mnot\u001b[0m \u001b[0mnp\u001b[0m\u001b[1;33m.\u001b[0m\u001b[0misfinite\u001b[0m\u001b[1;33m(\u001b[0m\u001b[0marr\u001b[0m\u001b[1;33m)\u001b[0m\u001b[1;33m.\u001b[0m\u001b[0mall\u001b[0m\u001b[1;33m(\u001b[0m\u001b[1;33m)\u001b[0m\u001b[1;33m:\u001b[0m\u001b[1;33m\u001b[0m\u001b[1;33m\u001b[0m\u001b[0m\n\u001b[0;32m    699\u001b[0m             raise ValueError(\n\u001b[1;32m--> 700\u001b[1;33m                 \u001b[1;34m\"Cannot convert non-finite values (NA or inf) to \"\u001b[0m \u001b[1;34m\"integer\"\u001b[0m\u001b[1;33m\u001b[0m\u001b[1;33m\u001b[0m\u001b[0m\n\u001b[0m\u001b[0;32m    701\u001b[0m             )\n\u001b[0;32m    702\u001b[0m \u001b[1;33m\u001b[0m\u001b[0m\n",
      "\u001b[1;31mValueError\u001b[0m: Cannot convert non-finite values (NA or inf) to integer"
     ]
    }
   ],
   "source": [
    "#convert the age variable data type from float to integer.This cant be done because age column has missing values.\n",
    "inp0[\"age\"] = inp0[\"age\"].astype(int)"
   ]
  },
  {
   "cell_type": "code",
   "execution_count": 11,
   "metadata": {},
   "outputs": [
    {
     "data": {
      "text/plain": [
       "40.93565090394105"
      ]
     },
     "execution_count": 11,
     "metadata": {},
     "output_type": "execute_result"
    }
   ],
   "source": [
    "#print the average age of customers.\n",
    "inp0.age.mean()"
   ]
  },
  {
   "cell_type": "markdown",
   "metadata": {},
   "source": [
    "#### Dividing \"jobedu\" column into job and education categories. "
   ]
  },
  {
   "cell_type": "code",
   "execution_count": 12,
   "metadata": {},
   "outputs": [],
   "source": [
    "#Extract job in newly created 'job' column from \"jobedu\" column.\n",
    "inp0['job']= inp0[\"jobedu\"].apply(lambda x:x.split(\",\")[0])"
   ]
  },
  {
   "cell_type": "code",
   "execution_count": 13,
   "metadata": {},
   "outputs": [],
   "source": [
    "#Extract education in newly created 'education' column from \"jobedu\" column.\n",
    "inp0['education']= inp0[\"jobedu\"].apply(lambda x: x.split(\",\")[1])"
   ]
  },
  {
   "cell_type": "code",
   "execution_count": 14,
   "metadata": {},
   "outputs": [
    {
     "data": {
      "text/html": [
       "<div>\n",
       "<style scoped>\n",
       "    .dataframe tbody tr th:only-of-type {\n",
       "        vertical-align: middle;\n",
       "    }\n",
       "\n",
       "    .dataframe tbody tr th {\n",
       "        vertical-align: top;\n",
       "    }\n",
       "\n",
       "    .dataframe thead th {\n",
       "        text-align: right;\n",
       "    }\n",
       "</style>\n",
       "<table border=\"1\" class=\"dataframe\">\n",
       "  <thead>\n",
       "    <tr style=\"text-align: right;\">\n",
       "      <th></th>\n",
       "      <th>age</th>\n",
       "      <th>salary</th>\n",
       "      <th>balance</th>\n",
       "      <th>marital</th>\n",
       "      <th>targeted</th>\n",
       "      <th>default</th>\n",
       "      <th>housing</th>\n",
       "      <th>loan</th>\n",
       "      <th>contact</th>\n",
       "      <th>day</th>\n",
       "      <th>month</th>\n",
       "      <th>duration</th>\n",
       "      <th>campaign</th>\n",
       "      <th>pdays</th>\n",
       "      <th>previous</th>\n",
       "      <th>poutcome</th>\n",
       "      <th>response</th>\n",
       "      <th>job</th>\n",
       "      <th>education</th>\n",
       "    </tr>\n",
       "  </thead>\n",
       "  <tbody>\n",
       "    <tr>\n",
       "      <th>0</th>\n",
       "      <td>58.0</td>\n",
       "      <td>100000</td>\n",
       "      <td>2143</td>\n",
       "      <td>married</td>\n",
       "      <td>yes</td>\n",
       "      <td>no</td>\n",
       "      <td>yes</td>\n",
       "      <td>no</td>\n",
       "      <td>unknown</td>\n",
       "      <td>5</td>\n",
       "      <td>may, 2017</td>\n",
       "      <td>261 sec</td>\n",
       "      <td>1</td>\n",
       "      <td>-1</td>\n",
       "      <td>0</td>\n",
       "      <td>unknown</td>\n",
       "      <td>no</td>\n",
       "      <td>management</td>\n",
       "      <td>tertiary</td>\n",
       "    </tr>\n",
       "    <tr>\n",
       "      <th>1</th>\n",
       "      <td>44.0</td>\n",
       "      <td>60000</td>\n",
       "      <td>29</td>\n",
       "      <td>single</td>\n",
       "      <td>yes</td>\n",
       "      <td>no</td>\n",
       "      <td>yes</td>\n",
       "      <td>no</td>\n",
       "      <td>unknown</td>\n",
       "      <td>5</td>\n",
       "      <td>may, 2017</td>\n",
       "      <td>151 sec</td>\n",
       "      <td>1</td>\n",
       "      <td>-1</td>\n",
       "      <td>0</td>\n",
       "      <td>unknown</td>\n",
       "      <td>no</td>\n",
       "      <td>technician</td>\n",
       "      <td>secondary</td>\n",
       "    </tr>\n",
       "    <tr>\n",
       "      <th>2</th>\n",
       "      <td>33.0</td>\n",
       "      <td>120000</td>\n",
       "      <td>2</td>\n",
       "      <td>married</td>\n",
       "      <td>yes</td>\n",
       "      <td>no</td>\n",
       "      <td>yes</td>\n",
       "      <td>yes</td>\n",
       "      <td>unknown</td>\n",
       "      <td>5</td>\n",
       "      <td>may, 2017</td>\n",
       "      <td>76 sec</td>\n",
       "      <td>1</td>\n",
       "      <td>-1</td>\n",
       "      <td>0</td>\n",
       "      <td>unknown</td>\n",
       "      <td>no</td>\n",
       "      <td>entrepreneur</td>\n",
       "      <td>secondary</td>\n",
       "    </tr>\n",
       "    <tr>\n",
       "      <th>3</th>\n",
       "      <td>47.0</td>\n",
       "      <td>20000</td>\n",
       "      <td>1506</td>\n",
       "      <td>married</td>\n",
       "      <td>no</td>\n",
       "      <td>no</td>\n",
       "      <td>yes</td>\n",
       "      <td>no</td>\n",
       "      <td>unknown</td>\n",
       "      <td>5</td>\n",
       "      <td>may, 2017</td>\n",
       "      <td>92 sec</td>\n",
       "      <td>1</td>\n",
       "      <td>-1</td>\n",
       "      <td>0</td>\n",
       "      <td>unknown</td>\n",
       "      <td>no</td>\n",
       "      <td>blue-collar</td>\n",
       "      <td>unknown</td>\n",
       "    </tr>\n",
       "    <tr>\n",
       "      <th>4</th>\n",
       "      <td>33.0</td>\n",
       "      <td>0</td>\n",
       "      <td>1</td>\n",
       "      <td>single</td>\n",
       "      <td>no</td>\n",
       "      <td>no</td>\n",
       "      <td>no</td>\n",
       "      <td>no</td>\n",
       "      <td>unknown</td>\n",
       "      <td>5</td>\n",
       "      <td>may, 2017</td>\n",
       "      <td>198 sec</td>\n",
       "      <td>1</td>\n",
       "      <td>-1</td>\n",
       "      <td>0</td>\n",
       "      <td>unknown</td>\n",
       "      <td>no</td>\n",
       "      <td>unknown</td>\n",
       "      <td>unknown</td>\n",
       "    </tr>\n",
       "  </tbody>\n",
       "</table>\n",
       "</div>"
      ],
      "text/plain": [
       "    age  salary  balance  marital targeted default housing loan  contact  day  \\\n",
       "0  58.0  100000     2143  married      yes      no     yes   no  unknown    5   \n",
       "1  44.0   60000       29   single      yes      no     yes   no  unknown    5   \n",
       "2  33.0  120000        2  married      yes      no     yes  yes  unknown    5   \n",
       "3  47.0   20000     1506  married       no      no     yes   no  unknown    5   \n",
       "4  33.0       0        1   single       no      no      no   no  unknown    5   \n",
       "\n",
       "       month duration  campaign  pdays  previous poutcome response  \\\n",
       "0  may, 2017  261 sec         1     -1         0  unknown       no   \n",
       "1  may, 2017  151 sec         1     -1         0  unknown       no   \n",
       "2  may, 2017   76 sec         1     -1         0  unknown       no   \n",
       "3  may, 2017   92 sec         1     -1         0  unknown       no   \n",
       "4  may, 2017  198 sec         1     -1         0  unknown       no   \n",
       "\n",
       "            job  education  \n",
       "0    management   tertiary  \n",
       "1    technician  secondary  \n",
       "2  entrepreneur  secondary  \n",
       "3   blue-collar    unknown  \n",
       "4       unknown    unknown  "
      ]
     },
     "execution_count": 14,
     "metadata": {},
     "output_type": "execute_result"
    }
   ],
   "source": [
    "#drop the \"jobedu\" column from the dataframe.\n",
    "inp0.drop(\"jobedu\",axis=1,inplace=True)\n",
    "inp0.head()"
   ]
  },
  {
   "cell_type": "markdown",
   "metadata": {},
   "source": [
    "### Impute/Remove missing values "
   ]
  },
  {
   "cell_type": "markdown",
   "metadata": {},
   "source": [
    "Take aways from the lecture on missing values:\n",
    "\n",
    "- **Set values as missing values**: Identify values that indicate missing data, for example, treat blank strings, \"NA\", \"XX\", \"999\", etc., as missing.\n",
    "- **Adding is good, exaggerating is bad**: You should try to get information from reliable external sources as much as possible, but if you can’t, then it is better to retain missing values rather than exaggerating the existing rows/columns.\n",
    "- **Delete rows and columns**: Rows can be deleted if the number of missing values is insignificant, as this would not impact the overall analysis results. Columns can be removed if the missing values are quite significant in number.\n",
    "- **Fill partial missing values using business judgement**: Such values include missing time zone, century, etc. These values can be identified easily.\n",
    "\n",
    "Types of missing values:\n",
    "- **MCAR**: It stands for Missing completely at random (the reason behind the missing value is not dependent on any other feature).\n",
    "- **MAR**: It stands for Missing at random (the reason behind the missing value may be associated with some other features).\n",
    "- **MNAR**: It stands for Missing not at random (there is a specific reason behind the missing value).\n"
   ]
  },
  {
   "cell_type": "markdown",
   "metadata": {},
   "source": [
    "#### handling missing values in age column."
   ]
  },
  {
   "cell_type": "code",
   "execution_count": 15,
   "metadata": {},
   "outputs": [
    {
     "name": "stdout",
     "output_type": "stream",
     "text": [
      "Missing values in age column  20\n",
      "Missing values in response column  30\n"
     ]
    }
   ],
   "source": [
    "#count the missing values in age column.\n",
    "print(\"Missing values in age column \", inp0.age.isnull().sum())\n",
    "print(\"Missing values in response column \", inp0.response.isnull().sum())"
   ]
  },
  {
   "cell_type": "code",
   "execution_count": 16,
   "metadata": {},
   "outputs": [
    {
     "name": "stdout",
     "output_type": "stream",
     "text": [
      "0.0663555329455221\n"
     ]
    },
    {
     "data": {
      "text/plain": [
       "no     0.882982\n",
       "yes    0.117018\n",
       "Name: response, dtype: float64"
      ]
     },
     "execution_count": 16,
     "metadata": {},
     "output_type": "execute_result"
    }
   ],
   "source": [
    "# find the percentage of missing values in response column\n",
    "a = inp0.response.isnull().sum()\n",
    "b = (a/45211)*100\n",
    "print(b) \n",
    "# Since this is of very less percentage we can actually drop this\n",
    "\n",
    "#value_counts() method which helps to get the frequency of the unique values in the particular column of the date frame.\n",
    "#This also has an argument normalize= True when set, will give the relative frequency of the columns.\n",
    "inp0[\"response\"].value_counts(normalize= True)\n",
    "# Hence we can take the remaining 1% is null values"
   ]
  },
  {
   "cell_type": "code",
   "execution_count": 17,
   "metadata": {},
   "outputs": [
    {
     "data": {
      "text/plain": [
       "(45211, 19)"
      ]
     },
     "execution_count": 17,
     "metadata": {},
     "output_type": "execute_result"
    }
   ],
   "source": [
    "#pring the shape of dataframe inp0\n",
    "inp0.shape"
   ]
  },
  {
   "cell_type": "code",
   "execution_count": 18,
   "metadata": {},
   "outputs": [
    {
     "name": "stdout",
     "output_type": "stream",
     "text": [
      "% of missing values in age 0.0442370219636814\n"
     ]
    }
   ],
   "source": [
    "#calculate the percentage of missing values in age column.\n",
    "print(\"% of missing values in age\", (inp0.age.isnull().sum()/45211)*100)"
   ]
  },
  {
   "cell_type": "markdown",
   "metadata": {},
   "source": [
    "Drop the records with age missing. "
   ]
  },
  {
   "cell_type": "code",
   "execution_count": 19,
   "metadata": {},
   "outputs": [
    {
     "data": {
      "text/plain": [
       "0"
      ]
     },
     "execution_count": 19,
     "metadata": {},
     "output_type": "execute_result"
    }
   ],
   "source": [
    "#drop the records with age missing in inp0 and copy in inp1 dataframe.\n",
    "inp1 = inp0[ ~inp0.age.isnull()].copy()\n",
    "inp1.age.isnull().sum()"
   ]
  },
  {
   "cell_type": "markdown",
   "metadata": {},
   "source": [
    "#### handling missing values in month column"
   ]
  },
  {
   "cell_type": "code",
   "execution_count": 20,
   "metadata": {},
   "outputs": [
    {
     "data": {
      "text/plain": [
       "50"
      ]
     },
     "execution_count": 20,
     "metadata": {},
     "output_type": "execute_result"
    }
   ],
   "source": [
    "#count the missing values in month column in inp1.\n",
    "inp1.month.isnull().sum()"
   ]
  },
  {
   "cell_type": "code",
   "execution_count": 21,
   "metadata": {},
   "outputs": [
    {
     "data": {
      "text/plain": [
       "may, 2017    0.304380\n",
       "jul, 2017    0.152522\n",
       "aug, 2017    0.138123\n",
       "jun, 2017    0.118141\n",
       "nov, 2017    0.087880\n",
       "apr, 2017    0.064908\n",
       "feb, 2017    0.058616\n",
       "jan, 2017    0.031058\n",
       "oct, 2017    0.016327\n",
       "sep, 2017    0.012760\n",
       "mar, 2017    0.010545\n",
       "dec, 2017    0.004741\n",
       "Name: month, dtype: float64"
      ]
     },
     "execution_count": 21,
     "metadata": {},
     "output_type": "execute_result"
    }
   ],
   "source": [
    "#print the percentage of each month in the data frame inp1.\n",
    "inp1[\"month\"].value_counts(normalize=True)"
   ]
  },
  {
   "cell_type": "code",
   "execution_count": 22,
   "metadata": {},
   "outputs": [
    {
     "data": {
      "text/plain": [
       "'may, 2017'"
      ]
     },
     "execution_count": 22,
     "metadata": {},
     "output_type": "execute_result"
    }
   ],
   "source": [
    "#find the mode of month in inp1\n",
    "inp1.month.mode()[0]"
   ]
  },
  {
   "cell_type": "code",
   "execution_count": 23,
   "metadata": {},
   "outputs": [
    {
     "data": {
      "text/plain": [
       "may, 2017    0.305149\n",
       "jul, 2017    0.152353\n",
       "aug, 2017    0.137970\n",
       "jun, 2017    0.118010\n",
       "nov, 2017    0.087783\n",
       "apr, 2017    0.064836\n",
       "feb, 2017    0.058551\n",
       "jan, 2017    0.031024\n",
       "oct, 2017    0.016309\n",
       "sep, 2017    0.012746\n",
       "mar, 2017    0.010533\n",
       "dec, 2017    0.004735\n",
       "Name: month, dtype: float64"
      ]
     },
     "execution_count": 23,
     "metadata": {},
     "output_type": "execute_result"
    }
   ],
   "source": [
    "# fill the missing values with mode value of month in inp1.\n",
    "b = inp1.month.mode()[0]\n",
    "inp1.month.fillna(b,inplace=True)\n",
    "inp1['month'].value_counts(normalize=True)"
   ]
  },
  {
   "cell_type": "code",
   "execution_count": 24,
   "metadata": {},
   "outputs": [
    {
     "data": {
      "text/plain": [
       "0"
      ]
     },
     "execution_count": 24,
     "metadata": {},
     "output_type": "execute_result"
    }
   ],
   "source": [
    "#let's see the null values in the month column.\n",
    "inp1.month.isnull().sum()"
   ]
  },
  {
   "cell_type": "markdown",
   "metadata": {},
   "source": [
    "#### handling missing values in response column "
   ]
  },
  {
   "cell_type": "code",
   "execution_count": 25,
   "metadata": {},
   "outputs": [
    {
     "data": {
      "text/plain": [
       "30"
      ]
     },
     "execution_count": 25,
     "metadata": {},
     "output_type": "execute_result"
    }
   ],
   "source": [
    "#count the missing values in response column in inp1.\n",
    "a=inp1.response.isnull().sum()\n",
    "a"
   ]
  },
  {
   "cell_type": "code",
   "execution_count": 26,
   "metadata": {},
   "outputs": [
    {
     "name": "stdout",
     "output_type": "stream",
     "text": [
      "percentage of missing values in response column is  0.06638489964816004\n"
     ]
    }
   ],
   "source": [
    "#calculate the percentage of missing values in response column. \n",
    "inp1.shape\n",
    "print(\"percentage of missing values in response column is \", (a/45191)*100)"
   ]
  },
  {
   "cell_type": "markdown",
   "metadata": {},
   "source": [
    "Target variable is better of not imputed.\n",
    "- Drop the records with missing values."
   ]
  },
  {
   "cell_type": "code",
   "execution_count": 27,
   "metadata": {},
   "outputs": [],
   "source": [
    "#drop the records with response missings in inp1.\n",
    "inp1 = inp1[~inp1.response.isnull()].copy()"
   ]
  },
  {
   "cell_type": "code",
   "execution_count": 28,
   "metadata": {},
   "outputs": [
    {
     "data": {
      "text/plain": [
       "age          0\n",
       "salary       0\n",
       "balance      0\n",
       "marital      0\n",
       "targeted     0\n",
       "default      0\n",
       "housing      0\n",
       "loan         0\n",
       "contact      0\n",
       "day          0\n",
       "month        0\n",
       "duration     0\n",
       "campaign     0\n",
       "pdays        0\n",
       "previous     0\n",
       "poutcome     0\n",
       "response     0\n",
       "job          0\n",
       "education    0\n",
       "dtype: int64"
      ]
     },
     "execution_count": 28,
     "metadata": {},
     "output_type": "execute_result"
    }
   ],
   "source": [
    "#calculate the missing values in each column of data frame: inp1.\n",
    "inp1.isnull().sum()"
   ]
  },
  {
   "cell_type": "markdown",
   "metadata": {},
   "source": [
    "#### handling pdays column. "
   ]
  },
  {
   "cell_type": "code",
   "execution_count": 29,
   "metadata": {},
   "outputs": [
    {
     "data": {
      "text/plain": [
       "0         -1\n",
       "1         -1\n",
       "2         -1\n",
       "3         -1\n",
       "4         -1\n",
       "        ... \n",
       "45206     -1\n",
       "45207     -1\n",
       "45208    184\n",
       "45209     -1\n",
       "45210    188\n",
       "Name: pdays, Length: 45161, dtype: int64"
      ]
     },
     "execution_count": 29,
     "metadata": {},
     "output_type": "execute_result"
    }
   ],
   "source": [
    "#pdays column\n",
    "inp1.pdays"
   ]
  },
  {
   "cell_type": "code",
   "execution_count": 30,
   "metadata": {},
   "outputs": [
    {
     "data": {
      "text/plain": [
       "count    45161.000000\n",
       "mean        40.182015\n",
       "std        100.079372\n",
       "min         -1.000000\n",
       "25%         -1.000000\n",
       "50%         -1.000000\n",
       "75%         -1.000000\n",
       "max        871.000000\n",
       "Name: pdays, dtype: float64"
      ]
     },
     "execution_count": 30,
     "metadata": {},
     "output_type": "execute_result"
    }
   ],
   "source": [
    "#describe the pdays column of inp1.\n",
    "inp1.pdays.describe()\n",
    "\n",
    "# Hence, it is clear that -1 value in pdays meant it is missing value and this is impacting the summary stats.\n",
    "# Therefore, we can make -1 as entirely NaN so that it would not have more impact on the summary functions"
   ]
  },
  {
   "cell_type": "markdown",
   "metadata": {},
   "source": [
    "-1 indicates the missing values.\n",
    "Missing value does not always be present as null.\n",
    "How to handle it:\n",
    "\n",
    "Objective is:\n",
    "- you should ignore the missing values in the calculations\n",
    "- simply make it missing - replace -1 with NaN.\n",
    "- all summary statistics- mean, median etc. we will ignore the missing values of pdays."
   ]
  },
  {
   "cell_type": "code",
   "execution_count": 31,
   "metadata": {},
   "outputs": [
    {
     "data": {
      "text/plain": [
       "count    8246.000000\n",
       "mean      224.542202\n",
       "std       115.210792\n",
       "min         1.000000\n",
       "25%       133.000000\n",
       "50%       195.000000\n",
       "75%       327.000000\n",
       "max       871.000000\n",
       "Name: pdays, dtype: float64"
      ]
     },
     "execution_count": 31,
     "metadata": {},
     "output_type": "execute_result"
    }
   ],
   "source": [
    "#describe the pdays column with considering the -1 values.\n",
    "inp1.loc[inp1.pdays<0,\"pdays\"]= np.NaN\n",
    "inp1.pdays.describe()"
   ]
  },
  {
   "cell_type": "code",
   "execution_count": 32,
   "metadata": {},
   "outputs": [
    {
     "name": "stdout",
     "output_type": "stream",
     "text": [
      "<class 'pandas.core.frame.DataFrame'>\n",
      "Int64Index: 45161 entries, 0 to 45210\n",
      "Data columns (total 19 columns):\n",
      "age          45161 non-null float64\n",
      "salary       45161 non-null int64\n",
      "balance      45161 non-null int64\n",
      "marital      45161 non-null object\n",
      "targeted     45161 non-null object\n",
      "default      45161 non-null object\n",
      "housing      45161 non-null object\n",
      "loan         45161 non-null object\n",
      "contact      45161 non-null object\n",
      "day          45161 non-null int64\n",
      "month        45161 non-null object\n",
      "duration     45161 non-null object\n",
      "campaign     45161 non-null int64\n",
      "pdays        8246 non-null float64\n",
      "previous     45161 non-null int64\n",
      "poutcome     45161 non-null object\n",
      "response     45161 non-null object\n",
      "job          45161 non-null object\n",
      "education    45161 non-null object\n",
      "dtypes: float64(2), int64(5), object(12)\n",
      "memory usage: 4.8+ MB\n"
     ]
    }
   ],
   "source": [
    "# check the data type\n",
    "inp1.info()"
   ]
  },
  {
   "cell_type": "code",
   "execution_count": 33,
   "metadata": {},
   "outputs": [
    {
     "name": "stdout",
     "output_type": "stream",
     "text": [
      "<class 'pandas.core.frame.DataFrame'>\n",
      "Int64Index: 45161 entries, 0 to 45210\n",
      "Data columns (total 19 columns):\n",
      "age          45161 non-null int32\n",
      "salary       45161 non-null int64\n",
      "balance      45161 non-null int64\n",
      "marital      45161 non-null object\n",
      "targeted     45161 non-null object\n",
      "default      45161 non-null object\n",
      "housing      45161 non-null object\n",
      "loan         45161 non-null object\n",
      "contact      45161 non-null object\n",
      "day          45161 non-null int64\n",
      "month        45161 non-null object\n",
      "duration     45161 non-null object\n",
      "campaign     45161 non-null int64\n",
      "pdays        8246 non-null float64\n",
      "previous     45161 non-null int64\n",
      "poutcome     45161 non-null object\n",
      "response     45161 non-null object\n",
      "job          45161 non-null object\n",
      "education    45161 non-null object\n",
      "dtypes: float64(1), int32(1), int64(5), object(12)\n",
      "memory usage: 4.7+ MB\n"
     ]
    }
   ],
   "source": [
    "# converting age to int data type\n",
    "inp1[\"age\"] = inp1[\"age\"].astype(int)\n",
    "inp1.info()"
   ]
  },
  {
   "cell_type": "markdown",
   "metadata": {},
   "source": [
    "###  Handling Outliers "
   ]
  },
  {
   "cell_type": "markdown",
   "metadata": {},
   "source": [
    "Major approaches to the treat outliers:\n",
    " \t\t\n",
    "- **Imputation**\n",
    "- **Deletion of outliers**\n",
    "- **Binning of values**\n",
    "- **Cap the outlier**\n"
   ]
  },
  {
   "cell_type": "markdown",
   "metadata": {},
   "source": [
    "#### Age variable "
   ]
  },
  {
   "cell_type": "code",
   "execution_count": 34,
   "metadata": {},
   "outputs": [
    {
     "data": {
      "text/plain": [
       "count    45161.000000\n",
       "mean        40.935763\n",
       "std         10.618790\n",
       "min         18.000000\n",
       "25%         33.000000\n",
       "50%         39.000000\n",
       "75%         48.000000\n",
       "max         95.000000\n",
       "Name: age, dtype: float64"
      ]
     },
     "execution_count": 34,
     "metadata": {},
     "output_type": "execute_result"
    }
   ],
   "source": [
    "#describe the age variable in inp1.\n",
    "inp1.age.describe()"
   ]
  },
  {
   "cell_type": "code",
   "execution_count": 35,
   "metadata": {},
   "outputs": [
    {
     "data": {
      "image/png": "[encoded data removed]",
      "text/plain": [
       "<Figure size 432x288 with 1 Axes>"
      ]
     },
     "metadata": {
      "needs_background": "light"
     },
     "output_type": "display_data"
    }
   ],
   "source": [
    "#plot the histogram of age variable.\n",
    "inp1.age.plot.hist()\n",
    "plt.show()"
   ]
  },
  {
   "cell_type": "code",
   "execution_count": 39,
   "metadata": {},
   "outputs": [
    {
     "data": {
      "text/plain": [
       "<matplotlib.axes._subplots.AxesSubplot at 0x1a91f870>"
      ]
     },
     "execution_count": 39,
     "metadata": {},
     "output_type": "execute_result"
    },
    {
     "data": {
      "image/png": "[encoded data removed]",
      "text/plain": [
       "<Figure size 432x288 with 1 Axes>"
      ]
     },
     "metadata": {
      "needs_background": "light"
     },
     "output_type": "display_data"
    }
   ],
   "source": [
    "#plot the boxplot of age variable.\n",
    "sns.boxplot(inp1.age)\n",
    "#though the boxplot of the age variable shows the outliers there are chances that 60+ age people can be targeted sector,\n",
    "# who might be intrested in investing in the term deposit. Hence, we can leave these outliers as it is and proceed with the\n",
    "# analysis."
   ]
  },
  {
   "cell_type": "markdown",
   "metadata": {},
   "source": [
    "#### Salary variable "
   ]
  },
  {
   "cell_type": "code",
   "execution_count": 40,
   "metadata": {},
   "outputs": [
    {
     "data": {
      "text/plain": [
       "count     45161.000000\n",
       "mean      57004.849317\n",
       "std       32087.698810\n",
       "min           0.000000\n",
       "25%       20000.000000\n",
       "50%       60000.000000\n",
       "75%       70000.000000\n",
       "max      120000.000000\n",
       "Name: salary, dtype: float64"
      ]
     },
     "execution_count": 40,
     "metadata": {},
     "output_type": "execute_result"
    }
   ],
   "source": [
    "#describe the salary variable of inp1.\n",
    "inp1.salary.describe()"
   ]
  },
  {
   "cell_type": "code",
   "execution_count": 41,
   "metadata": {},
   "outputs": [
    {
     "data": {
      "text/plain": [
       "<matplotlib.axes._subplots.AxesSubplot at 0x50f5e50>"
      ]
     },
     "execution_count": 41,
     "metadata": {},
     "output_type": "execute_result"
    },
    {
     "data": {
      "image/png": "[encoded data removed]",
      "text/plain": [
       "<Figure size 432x288 with 1 Axes>"
      ]
     },
     "metadata": {
      "needs_background": "light"
     },
     "output_type": "display_data"
    }
   ],
   "source": [
    "#plot the boxplot of salary variable.\n",
    "sns.boxplot(inp1.salary)"
   ]
  },
  {
   "cell_type": "markdown",
   "metadata": {},
   "source": [
    "#### Balance variable "
   ]
  },
  {
   "cell_type": "code",
   "execution_count": 42,
   "metadata": {},
   "outputs": [
    {
     "data": {
      "text/plain": [
       "count     45161.000000\n",
       "mean       1362.850690\n",
       "std        3045.939589\n",
       "min       -8019.000000\n",
       "25%          72.000000\n",
       "50%         448.000000\n",
       "75%        1428.000000\n",
       "max      102127.000000\n",
       "Name: balance, dtype: float64"
      ]
     },
     "execution_count": 42,
     "metadata": {},
     "output_type": "execute_result"
    }
   ],
   "source": [
    "#describe the balance variable of inp1.\n",
    "inp1.balance.describe()\n",
    "\n",
    "# Here, min is -8019- this is fine as some users might have\n",
    "# negative balance. But, there is a significant jump from 75%\n",
    "# to max."
   ]
  },
  {
   "cell_type": "code",
   "execution_count": 43,
   "metadata": {},
   "outputs": [
    {
     "data": {
      "text/plain": [
       "<matplotlib.axes._subplots.AxesSubplot at 0x512c970>"
      ]
     },
     "execution_count": 43,
     "metadata": {},
     "output_type": "execute_result"
    },
    {
     "data": {
      "image/png": "[encoded data removed]",
      "text/plain": [
       "<Figure size 432x288 with 1 Axes>"
      ]
     },
     "metadata": {
      "needs_background": "light"
     },
     "output_type": "display_data"
    }
   ],
   "source": [
    "#plot the boxplot of balance variable.\n",
    "sns.boxplot(inp1.balance)"
   ]
  },
  {
   "cell_type": "code",
   "execution_count": 44,
   "metadata": {},
   "outputs": [
    {
     "data": {
      "image/png": "[encoded data removed]",
      "text/plain": [
       "<Figure size 576x144 with 1 Axes>"
      ]
     },
     "metadata": {
      "needs_background": "light"
     },
     "output_type": "display_data"
    }
   ],
   "source": [
    "#plot the boxplot of balance variable after scaling in 8:2.\n",
    "plt.figure(figsize=[8,2])\n",
    "sns.boxplot(inp1.balance)\n",
    "plt.show()"
   ]
  },
  {
   "cell_type": "code",
   "execution_count": 45,
   "metadata": {},
   "outputs": [
    {
     "data": {
      "text/plain": [
       "0.50      448.0\n",
       "0.70     1126.0\n",
       "0.90     3576.0\n",
       "0.95     5769.0\n",
       "0.99    13173.4\n",
       "Name: balance, dtype: float64"
      ]
     },
     "execution_count": 45,
     "metadata": {},
     "output_type": "execute_result"
    }
   ],
   "source": [
    "#print the quantile (0.5, 0.7, 0.9, 0.95 and 0.99) of balance variable\n",
    "inp1.balance.quantile([0.5,0.7,0.9,0.95,0.99])"
   ]
  },
  {
   "cell_type": "code",
   "execution_count": 46,
   "metadata": {},
   "outputs": [
    {
     "data": {
      "text/plain": [
       "count     45161.000000\n",
       "mean       1362.850690\n",
       "std        3045.939589\n",
       "min       -8019.000000\n",
       "25%          72.000000\n",
       "50%         448.000000\n",
       "75%        1428.000000\n",
       "max      102127.000000\n",
       "Name: balance, dtype: float64"
      ]
     },
     "execution_count": 46,
     "metadata": {},
     "output_type": "execute_result"
    }
   ],
   "source": [
    "inp1.balance.describe()\n",
    "\n",
    "# Now here, the maximum value of a variable is far from the\n",
    "# 99th percentile,it gives a clear idea that there are outliers in the \n",
    "# data set. In addition, from the  \"The difference between the 99th percentile\n",
    "#value and the 95th percentile value of the balance variable is in  the normal range,\n",
    "# meaning it is not too high.\", we can see that there is no huge difference between the\n",
    "# quantile of 95th and 99th."
   ]
  },
  {
   "cell_type": "markdown",
   "metadata": {},
   "source": [
    "###  Standardising values "
   ]
  },
  {
   "cell_type": "markdown",
   "metadata": {},
   "source": [
    "Checklist for data standardization exercises:\n",
    "- **Standardise units**: Ensure all observations under one variable are expressed in a common and consistent unit, e.g., convert lbs to kg, miles/hr to km/hr, etc.\n",
    "- **Scale values if required**: Make sure all the observations under one variable have a common scale.\n",
    "- **Standardise precision** for better presentation of data, e.g., change 4.5312341 kg to 4.53 kg.\n",
    "- **Remove extra characters** such as common prefixes/suffixes, leading/trailing/multiple spaces, etc. These are irrelevant to analysis.\n",
    "- **Standardise case**: String variables may take various casing styles, e.g., UPPERCASE, lowercase, Title Case, Sentence case, etc.\n",
    "- **Standardise format**: It is important to standardise the format of other elements such as date, name, etce.g., change 23/10/16 to 2016/10/23, “Modi, Narendra” to “Narendra Modi\", etc."
   ]
  },
  {
   "cell_type": "markdown",
   "metadata": {},
   "source": [
    "#### Duration variable"
   ]
  },
  {
   "cell_type": "code",
   "execution_count": 47,
   "metadata": {},
   "outputs": [
    {
     "name": "stdout",
     "output_type": "stream",
     "text": [
      "count       45161\n",
      "unique       2646\n",
      "top       1.5 min\n",
      "freq          138\n",
      "Name: duration, dtype: object\n",
      "\n",
      " 0     261 sec\n",
      "1     151 sec\n",
      "2      76 sec\n",
      "3      92 sec\n",
      "4     198 sec\n",
      "5     139 sec\n",
      "6     217 sec\n",
      "7     380 sec\n",
      "8      50 sec\n",
      "9      55 sec\n",
      "10    222 sec\n",
      "11    137 sec\n",
      "12    517 sec\n",
      "13     71 sec\n",
      "14    174 sec\n",
      "Name: duration, dtype: object\n"
     ]
    }
   ],
   "source": [
    "#describe the duration variable of inp1\n",
    "print(inp1.duration.describe())\n",
    "print(\"\\n\",inp1.duration.head(15))"
   ]
  },
  {
   "cell_type": "code",
   "execution_count": 48,
   "metadata": {},
   "outputs": [],
   "source": [
    "#convert the duration variable into single unit i.e. minutes. and remove the sec or min prefix.\n",
    "inp1.duration = inp1.duration.apply(lambda x: float(x.split()[0])/60 if x.find(\"sec\")>0 else float(x.split()[0]))"
   ]
  },
  {
   "cell_type": "code",
   "execution_count": 49,
   "metadata": {},
   "outputs": [
    {
     "data": {
      "text/plain": [
       "count    45161.000000\n",
       "mean         4.302774\n",
       "std          4.293129\n",
       "min          0.000000\n",
       "25%          1.716667\n",
       "50%          3.000000\n",
       "75%          5.316667\n",
       "max         81.966667\n",
       "Name: duration, dtype: float64"
      ]
     },
     "execution_count": 49,
     "metadata": {},
     "output_type": "execute_result"
    }
   ],
   "source": [
    "#describe the duration variable\n",
    "inp1.duration.describe()"
   ]
  },
  {
   "cell_type": "markdown",
   "metadata": {},
   "source": [
    "##  Univariate Analysis "
   ]
  },
  {
   "cell_type": "markdown",
   "metadata": {},
   "source": [
    "### Segment- 2, Categorical unordered univariate analysis "
   ]
  },
  {
   "cell_type": "markdown",
   "metadata": {},
   "source": [
    "Unordered data do not have the notion of high-low, more-less etc. Example:\n",
    "- Type of loan taken by a person = home, personal, auto etc.\n",
    "- Organisation of a person = Sales, marketing, HR etc.\n",
    "- Job category of persone.\n",
    "- Marital status of any one.\n"
   ]
  },
  {
   "cell_type": "markdown",
   "metadata": {},
   "source": [
    "#### Marital status "
   ]
  },
  {
   "cell_type": "code",
   "execution_count": 50,
   "metadata": {},
   "outputs": [
    {
     "name": "stdout",
     "output_type": "stream",
     "text": [
      "<class 'pandas.core.frame.DataFrame'>\n",
      "Int64Index: 45161 entries, 0 to 45210\n",
      "Data columns (total 19 columns):\n",
      "age          45161 non-null int32\n",
      "salary       45161 non-null int64\n",
      "balance      45161 non-null int64\n",
      "marital      45161 non-null object\n",
      "targeted     45161 non-null object\n",
      "default      45161 non-null object\n",
      "housing      45161 non-null object\n",
      "loan         45161 non-null object\n",
      "contact      45161 non-null object\n",
      "day          45161 non-null int64\n",
      "month        45161 non-null object\n",
      "duration     45161 non-null float64\n",
      "campaign     45161 non-null int64\n",
      "pdays        8246 non-null float64\n",
      "previous     45161 non-null int64\n",
      "poutcome     45161 non-null object\n",
      "response     45161 non-null object\n",
      "job          45161 non-null object\n",
      "education    45161 non-null object\n",
      "dtypes: float64(2), int32(1), int64(5), object(11)\n",
      "memory usage: 4.8+ MB\n"
     ]
    }
   ],
   "source": [
    "inp1.info()"
   ]
  },
  {
   "cell_type": "code",
   "execution_count": 51,
   "metadata": {},
   "outputs": [
    {
     "data": {
      "text/plain": [
       "married     0.601957\n",
       "single      0.282943\n",
       "divorced    0.115099\n",
       "Name: marital, dtype: float64"
      ]
     },
     "execution_count": 51,
     "metadata": {},
     "output_type": "execute_result"
    }
   ],
   "source": [
    "#calculate the percentage of each marital status category. \n",
    "inp1.marital.value_counts(normalize=True)"
   ]
  },
  {
   "cell_type": "code",
   "execution_count": 52,
   "metadata": {},
   "outputs": [
    {
     "data": {
      "image/png": "[encoded data removed]",
      "text/plain": [
       "<Figure size 432x288 with 1 Axes>"
      ]
     },
     "metadata": {
      "needs_background": "light"
     },
     "output_type": "display_data"
    }
   ],
   "source": [
    "#plot the bar graph of percentage marital status categories\n",
    "inp1.marital.value_counts(normalize=True).plot.barh()\n",
    "plt.show()"
   ]
  },
  {
   "cell_type": "markdown",
   "metadata": {},
   "source": [
    "#### Job  "
   ]
  },
  {
   "cell_type": "code",
   "execution_count": 53,
   "metadata": {},
   "outputs": [
    {
     "data": {
      "text/plain": [
       "blue-collar      0.215274\n",
       "management       0.209273\n",
       "technician       0.168043\n",
       "admin.           0.114369\n",
       "services         0.091849\n",
       "retired          0.050087\n",
       "self-employed    0.034853\n",
       "entrepreneur     0.032860\n",
       "unemployed       0.028830\n",
       "housemaid        0.027413\n",
       "student          0.020770\n",
       "unknown          0.006377\n",
       "Name: job, dtype: float64"
      ]
     },
     "execution_count": 53,
     "metadata": {},
     "output_type": "execute_result"
    }
   ],
   "source": [
    "#calculate the percentage of each job status category.\n",
    "inp1.job.value_counts(normalize=True)"
   ]
  },
  {
   "cell_type": "code",
   "execution_count": 54,
   "metadata": {},
   "outputs": [
    {
     "data": {
      "image/png": "[encoded data removed]",
      "text/plain": [
       "<Figure size 432x288 with 1 Axes>"
      ]
     },
     "metadata": {
      "needs_background": "light"
     },
     "output_type": "display_data"
    }
   ],
   "source": [
    "#plot the bar graph of percentage job categories\n",
    "inp1.job.value_counts(normalize=True).plot.barh()\n",
    "plt.show()"
   ]
  },
  {
   "cell_type": "markdown",
   "metadata": {},
   "source": [
    "###  Categorical ordered univariate analysis "
   ]
  },
  {
   "cell_type": "markdown",
   "metadata": {},
   "source": [
    "Ordered variables have some kind of ordering. Some examples of bank marketing dataset are:\n",
    "- Age group= <30, 30-40, 40-50 and so on.\n",
    "- Month = Jan-Feb-Mar etc.\n",
    "- Education = primary, secondary and so on."
   ]
  },
  {
   "cell_type": "markdown",
   "metadata": {},
   "source": [
    "#### Education"
   ]
  },
  {
   "cell_type": "code",
   "execution_count": 55,
   "metadata": {},
   "outputs": [
    {
     "data": {
      "text/plain": [
       "secondary    0.513275\n",
       "tertiary     0.294192\n",
       "primary      0.151436\n",
       "unknown      0.041097\n",
       "Name: education, dtype: float64"
      ]
     },
     "execution_count": 55,
     "metadata": {},
     "output_type": "execute_result"
    }
   ],
   "source": [
    "#calculate the percentage of each education category.\n",
    "inp1.education.value_counts(normalize=True)"
   ]
  },
  {
   "cell_type": "code",
   "execution_count": 56,
   "metadata": {},
   "outputs": [
    {
     "data": {
      "image/png": "[encoded data removed]",
      "text/plain": [
       "<Figure size 432x288 with 1 Axes>"
      ]
     },
     "metadata": {},
     "output_type": "display_data"
    }
   ],
   "source": [
    "#plot the pie chart of education categories\n",
    "inp1.education.value_counts(normalize=True).plot.pie()\n",
    "plt.show()"
   ]
  },
  {
   "cell_type": "markdown",
   "metadata": {},
   "source": [
    "#### poutcome "
   ]
  },
  {
   "cell_type": "code",
   "execution_count": 57,
   "metadata": {},
   "outputs": [
    {
     "data": {
      "text/plain": [
       "unknown    0.817520\n",
       "failure    0.108368\n",
       "other      0.040721\n",
       "success    0.033392\n",
       "Name: poutcome, dtype: float64"
      ]
     },
     "execution_count": 57,
     "metadata": {},
     "output_type": "execute_result"
    }
   ],
   "source": [
    "#calculate the percentage of each poutcome category.\n",
    "inp1.poutcome.value_counts(normalize=True)"
   ]
  },
  {
   "cell_type": "code",
   "execution_count": 58,
   "metadata": {},
   "outputs": [
    {
     "data": {
      "image/png": "[encoded data removed]",
      "text/plain": [
       "<Figure size 432x288 with 1 Axes>"
      ]
     },
     "metadata": {
      "needs_background": "light"
     },
     "output_type": "display_data"
    }
   ],
   "source": [
    "inp1.poutcome.value_counts(normalize=True).plot.bar()\n",
    "plt.show()"
   ]
  },
  {
   "cell_type": "code",
   "execution_count": 59,
   "metadata": {},
   "outputs": [
    {
     "data": {
      "image/png": "[encoded data removed]",
      "text/plain": [
       "<Figure size 432x288 with 1 Axes>"
      ]
     },
     "metadata": {
      "needs_background": "light"
     },
     "output_type": "display_data"
    }
   ],
   "source": [
    "inp1[~(inp1.poutcome==\"unknown\")].poutcome.value_counts(normalize=True).plot.bar()\n",
    "plt.show()"
   ]
  },
  {
   "cell_type": "markdown",
   "metadata": {},
   "source": [
    "#### Response the target variable "
   ]
  },
  {
   "cell_type": "code",
   "execution_count": 60,
   "metadata": {},
   "outputs": [
    {
     "data": {
      "text/plain": [
       "no     0.882974\n",
       "yes    0.117026\n",
       "Name: response, dtype: float64"
      ]
     },
     "execution_count": 60,
     "metadata": {},
     "output_type": "execute_result"
    }
   ],
   "source": [
    "#calculate the percentage of each response category.\n",
    "inp1.response.value_counts(normalize=True)"
   ]
  },
  {
   "cell_type": "code",
   "execution_count": 61,
   "metadata": {},
   "outputs": [
    {
     "data": {
      "image/png": "[encoded data removed]",
      "text/plain": [
       "<Figure size 432x288 with 1 Axes>"
      ]
     },
     "metadata": {},
     "output_type": "display_data"
    }
   ],
   "source": [
    "#plot the pie chart of response categories\n",
    "inp1.response.value_counts(normalize=True).plot.pie()\n",
    "plt.show()"
   ]
  },
  {
   "cell_type": "markdown",
   "metadata": {},
   "source": [
    "##  Bivariate and Multivariate Analysis"
   ]
  },
  {
   "cell_type": "markdown",
   "metadata": {},
   "source": [
    "###  Numeric- numeric analysis "
   ]
  },
  {
   "cell_type": "markdown",
   "metadata": {},
   "source": [
    "There are three ways to analyse the numeric- numeric data types simultaneously.\n",
    "- **Scatter plot**: describes the pattern that how one variable is varying with other variable.\n",
    "- **Correlation matrix**: to describe the linearity of two numeric variables.\n",
    "- **Pair plot**: group of scatter plots of all numeric variables in the data frame."
   ]
  },
  {
   "cell_type": "code",
   "execution_count": 63,
   "metadata": {},
   "outputs": [
    {
     "data": {
      "image/png": "[encoded data removed]",
      "text/plain": [
       "<Figure size 432x288 with 1 Axes>"
      ]
     },
     "metadata": {
      "needs_background": "light"
     },
     "output_type": "display_data"
    }
   ],
   "source": [
    "#plot the scatter plot of balance and salary variable in inp1\n",
    "plt.scatter(inp1.salary, inp1.balance)\n",
    "plt.show()\n",
    "# no linear realtion between the salary and balance"
   ]
  },
  {
   "cell_type": "code",
   "execution_count": 64,
   "metadata": {},
   "outputs": [
    {
     "data": {
      "text/plain": [
       "<matplotlib.axes._subplots.AxesSubplot at 0xf88d430>"
      ]
     },
     "execution_count": 64,
     "metadata": {},
     "output_type": "execute_result"
    },
    {
     "data": {
      "image/png": "[encoded data removed]",
      "text/plain": [
       "<Figure size 432x288 with 1 Axes>"
      ]
     },
     "metadata": {
      "needs_background": "light"
     },
     "output_type": "display_data"
    }
   ],
   "source": [
    "#plot the scatter plot of balance and age variable in inp1\n",
    "inp1.plot.scatter(x=\"age\",y=\"balance\")\n",
    "#no linear relation between age and balance"
   ]
  },
  {
   "cell_type": "code",
   "execution_count": 66,
   "metadata": {},
   "outputs": [
    {
     "data": {
      "image/png": "[encoded data removed]",
      "text/plain": [
       "<Figure size 540x540 with 12 Axes>"
      ]
     },
     "metadata": {
      "needs_background": "light"
     },
     "output_type": "display_data"
    }
   ],
   "source": [
    "#plot the pair plot of salary, balance and age in inp1 dataframe.\n",
    "sns.pairplot(inp1,vars=[\"salary\",\"age\",\"balance\"])\n",
    "plt.show()"
   ]
  },
  {
   "cell_type": "markdown",
   "metadata": {},
   "source": [
    "#### Correlation heat map "
   ]
  },
  {
   "cell_type": "code",
   "execution_count": 67,
   "metadata": {},
   "outputs": [
    {
     "data": {
      "text/html": [
       "<div>\n",
       "<style scoped>\n",
       "    .dataframe tbody tr th:only-of-type {\n",
       "        vertical-align: middle;\n",
       "    }\n",
       "\n",
       "    .dataframe tbody tr th {\n",
       "        vertical-align: top;\n",
       "    }\n",
       "\n",
       "    .dataframe thead th {\n",
       "        text-align: right;\n",
       "    }\n",
       "</style>\n",
       "<table border=\"1\" class=\"dataframe\">\n",
       "  <thead>\n",
       "    <tr style=\"text-align: right;\">\n",
       "      <th></th>\n",
       "      <th>salary</th>\n",
       "      <th>balance</th>\n",
       "      <th>age</th>\n",
       "    </tr>\n",
       "  </thead>\n",
       "  <tbody>\n",
       "    <tr>\n",
       "      <th>salary</th>\n",
       "      <td>1.000000</td>\n",
       "      <td>0.055489</td>\n",
       "      <td>0.024513</td>\n",
       "    </tr>\n",
       "    <tr>\n",
       "      <th>balance</th>\n",
       "      <td>0.055489</td>\n",
       "      <td>1.000000</td>\n",
       "      <td>0.097710</td>\n",
       "    </tr>\n",
       "    <tr>\n",
       "      <th>age</th>\n",
       "      <td>0.024513</td>\n",
       "      <td>0.097710</td>\n",
       "      <td>1.000000</td>\n",
       "    </tr>\n",
       "  </tbody>\n",
       "</table>\n",
       "</div>"
      ],
      "text/plain": [
       "           salary   balance       age\n",
       "salary   1.000000  0.055489  0.024513\n",
       "balance  0.055489  1.000000  0.097710\n",
       "age      0.024513  0.097710  1.000000"
      ]
     },
     "execution_count": 67,
     "metadata": {},
     "output_type": "execute_result"
    }
   ],
   "source": [
    "#plot the correlation matrix of salary, balance and age in inp1 dataframe.\n",
    "inp1[[\"salary\",\"balance\",\"age\"]].corr()"
   ]
  },
  {
   "cell_type": "code",
   "execution_count": 68,
   "metadata": {},
   "outputs": [
    {
     "data": {
      "image/png": "[encoded data removed]",
      "text/plain": [
       "<Figure size 432x288 with 2 Axes>"
      ]
     },
     "metadata": {
      "needs_background": "light"
     },
     "output_type": "display_data"
    }
   ],
   "source": [
    "sns.heatmap(inp1[[\"salary\",\"balance\",\"age\"]].corr(), annot=True,cmap=\"Reds\")\n",
    "plt.show()"
   ]
  },
  {
   "cell_type": "markdown",
   "metadata": {},
   "source": [
    "###  Numerical categorical variable"
   ]
  },
  {
   "cell_type": "markdown",
   "metadata": {},
   "source": [
    "#### Salary vs response "
   ]
  },
  {
   "cell_type": "code",
   "execution_count": 69,
   "metadata": {},
   "outputs": [
    {
     "data": {
      "text/plain": [
       "response\n",
       "no     56769.510482\n",
       "yes    58780.510880\n",
       "Name: salary, dtype: float64"
      ]
     },
     "execution_count": 69,
     "metadata": {},
     "output_type": "execute_result"
    }
   ],
   "source": [
    "#groupby the response to find the mean of the salary with response no & yes seperatly.\n",
    "inp1.groupby(\"response\")[\"salary\"].mean()"
   ]
  },
  {
   "cell_type": "code",
   "execution_count": 70,
   "metadata": {},
   "outputs": [
    {
     "data": {
      "text/plain": [
       "response\n",
       "no     60000\n",
       "yes    60000\n",
       "Name: salary, dtype: int64"
      ]
     },
     "execution_count": 70,
     "metadata": {},
     "output_type": "execute_result"
    }
   ],
   "source": [
    "#groupby the response to find the median of the salary with response no & yes seperatly.\n",
    "inp1.groupby(\"response\")[\"salary\"].median()"
   ]
  },
  {
   "cell_type": "code",
   "execution_count": 71,
   "metadata": {},
   "outputs": [
    {
     "data": {
      "image/png": "[encoded data removed]",
      "text/plain": [
       "<Figure size 432x288 with 1 Axes>"
      ]
     },
     "metadata": {
      "needs_background": "light"
     },
     "output_type": "display_data"
    }
   ],
   "source": [
    "#plot the box plot of salary for yes & no responses.\n",
    "sns.boxplot(x=\"response\",y=\"salary\",data=inp1)\n",
    "plt.show()"
   ]
  },
  {
   "cell_type": "markdown",
   "metadata": {},
   "source": [
    "#### Balance vs response "
   ]
  },
  {
   "cell_type": "code",
   "execution_count": 72,
   "metadata": {},
   "outputs": [
    {
     "data": {
      "image/png": "[encoded data removed]",
      "text/plain": [
       "<Figure size 432x288 with 1 Axes>"
      ]
     },
     "metadata": {
      "needs_background": "light"
     },
     "output_type": "display_data"
    }
   ],
   "source": [
    "#plot the box plot of balance for yes & no responses.\n",
    "sns.boxplot(x=\"response\",y=\"balance\",data=inp1)\n",
    "plt.show()"
   ]
  },
  {
   "cell_type": "code",
   "execution_count": 73,
   "metadata": {},
   "outputs": [
    {
     "data": {
      "text/plain": [
       "response\n",
       "no     1304.292281\n",
       "yes    1804.681362\n",
       "Name: balance, dtype: float64"
      ]
     },
     "execution_count": 73,
     "metadata": {},
     "output_type": "execute_result"
    }
   ],
   "source": [
    "#groupby the response to find the mean of the balance with response no & yes seperatly.\n",
    "inp1.groupby(\"response\")[\"balance\"].mean()"
   ]
  },
  {
   "cell_type": "code",
   "execution_count": 74,
   "metadata": {},
   "outputs": [
    {
     "data": {
      "text/plain": [
       "response\n",
       "no     417\n",
       "yes    733\n",
       "Name: balance, dtype: int64"
      ]
     },
     "execution_count": 74,
     "metadata": {},
     "output_type": "execute_result"
    }
   ],
   "source": [
    "#groupby the response to find the median of the balance with response no & yes seperatly.\n",
    "inp1.groupby(\"response\")[\"balance\"].median()"
   ]
  },
  {
   "cell_type": "markdown",
   "metadata": {},
   "source": [
    "##### 75th percentile "
   ]
  },
  {
   "cell_type": "code",
   "execution_count": 75,
   "metadata": {},
   "outputs": [],
   "source": [
    "#function to find the 75th percentile.\n",
    "def p75(x):\n",
    "    return np.quantile(x, 0.75)"
   ]
  },
  {
   "cell_type": "code",
   "execution_count": 76,
   "metadata": {},
   "outputs": [
    {
     "data": {
      "text/html": [
       "<div>\n",
       "<style scoped>\n",
       "    .dataframe tbody tr th:only-of-type {\n",
       "        vertical-align: middle;\n",
       "    }\n",
       "\n",
       "    .dataframe tbody tr th {\n",
       "        vertical-align: top;\n",
       "    }\n",
       "\n",
       "    .dataframe thead th {\n",
       "        text-align: right;\n",
       "    }\n",
       "</style>\n",
       "<table border=\"1\" class=\"dataframe\">\n",
       "  <thead>\n",
       "    <tr style=\"text-align: right;\">\n",
       "      <th></th>\n",
       "      <th>mean</th>\n",
       "      <th>median</th>\n",
       "      <th>p75</th>\n",
       "    </tr>\n",
       "    <tr>\n",
       "      <th>response</th>\n",
       "      <th></th>\n",
       "      <th></th>\n",
       "      <th></th>\n",
       "    </tr>\n",
       "  </thead>\n",
       "  <tbody>\n",
       "    <tr>\n",
       "      <th>no</th>\n",
       "      <td>1304.292281</td>\n",
       "      <td>417</td>\n",
       "      <td>1345</td>\n",
       "    </tr>\n",
       "    <tr>\n",
       "      <th>yes</th>\n",
       "      <td>1804.681362</td>\n",
       "      <td>733</td>\n",
       "      <td>2159</td>\n",
       "    </tr>\n",
       "  </tbody>\n",
       "</table>\n",
       "</div>"
      ],
      "text/plain": [
       "                 mean  median   p75\n",
       "response                           \n",
       "no        1304.292281     417  1345\n",
       "yes       1804.681362     733  2159"
      ]
     },
     "execution_count": 76,
     "metadata": {},
     "output_type": "execute_result"
    }
   ],
   "source": [
    "#calculate the mean, median and 75th percentile of balance with response\n",
    "inp1.groupby(\"response\")[\"balance\"].aggregate(['mean','median',p75])"
   ]
  },
  {
   "cell_type": "code",
   "execution_count": 77,
   "metadata": {},
   "outputs": [
    {
     "data": {
      "image/png": "[encoded data removed]",
      "text/plain": [
       "<Figure size 432x288 with 1 Axes>"
      ]
     },
     "metadata": {
      "needs_background": "light"
     },
     "output_type": "display_data"
    }
   ],
   "source": [
    "#plot the bar graph of balance's mean an median with response.\n",
    "inp1.groupby(\"response\")[\"balance\"].aggregate(['mean','median',p75]).plot.bar()\n",
    "plt.show()"
   ]
  },
  {
   "cell_type": "markdown",
   "metadata": {},
   "source": [
    "#### Education vs salary "
   ]
  },
  {
   "cell_type": "code",
   "execution_count": 78,
   "metadata": {},
   "outputs": [
    {
     "data": {
      "text/plain": [
       "education\n",
       "primary      34232.343910\n",
       "secondary    49731.449525\n",
       "tertiary     82880.249887\n",
       "unknown      46529.633621\n",
       "Name: salary, dtype: float64"
      ]
     },
     "execution_count": 78,
     "metadata": {},
     "output_type": "execute_result"
    }
   ],
   "source": [
    "#groupby the education to find the mean of the salary education category.\n",
    "inp1.groupby(\"education\")[\"salary\"].mean()"
   ]
  },
  {
   "cell_type": "code",
   "execution_count": 79,
   "metadata": {},
   "outputs": [
    {
     "data": {
      "text/plain": [
       "education\n",
       "primary       20000\n",
       "secondary     55000\n",
       "tertiary     100000\n",
       "unknown       50000\n",
       "Name: salary, dtype: int64"
      ]
     },
     "execution_count": 79,
     "metadata": {},
     "output_type": "execute_result"
    }
   ],
   "source": [
    "#groupby the education to find the median of the salary for each education category.\n",
    "inp1.groupby(\"education\")[\"salary\"].median()"
   ]
  },
  {
   "cell_type": "markdown",
   "metadata": {},
   "source": [
    "#### Job vs salary"
   ]
  },
  {
   "cell_type": "code",
   "execution_count": 80,
   "metadata": {},
   "outputs": [
    {
     "data": {
      "text/plain": [
       "job\n",
       "admin.            50000\n",
       "blue-collar       20000\n",
       "entrepreneur     120000\n",
       "housemaid         16000\n",
       "management       100000\n",
       "retired           55000\n",
       "self-employed     60000\n",
       "services          70000\n",
       "student            4000\n",
       "technician        60000\n",
       "unemployed         8000\n",
       "unknown               0\n",
       "Name: salary, dtype: int64"
      ]
     },
     "execution_count": 80,
     "metadata": {},
     "output_type": "execute_result"
    }
   ],
   "source": [
    "#groupby the job to find the mean of the salary for each job category.\n",
    "inp1.groupby(\"job\")[\"salary\"].mean()"
   ]
  },
  {
   "cell_type": "markdown",
   "metadata": {},
   "source": [
    "###  Categorical categorical variable "
   ]
  },
  {
   "cell_type": "code",
   "execution_count": 81,
   "metadata": {},
   "outputs": [],
   "source": [
    "#create response_flag of numerical data type where response \"yes\"= 1, \"no\"= 0\n",
    "inp1[\"response_flag\"] = np.where(inp1.response==\"yes\",1,0)"
   ]
  },
  {
   "cell_type": "markdown",
   "metadata": {},
   "source": [
    "#### Education vs response rate"
   ]
  },
  {
   "cell_type": "code",
   "execution_count": 82,
   "metadata": {},
   "outputs": [
    {
     "data": {
      "text/plain": [
       "education\n",
       "primary      0.086416\n",
       "secondary    0.105608\n",
       "tertiary     0.150083\n",
       "unknown      0.135776\n",
       "Name: response_flag, dtype: float64"
      ]
     },
     "execution_count": 82,
     "metadata": {},
     "output_type": "execute_result"
    }
   ],
   "source": [
    "#calculate the mean of response_flag with different education categories.\n",
    "inp1.groupby(\"education\")[\"response_flag\"].mean()\n",
    "# higher education people are more inclined to give positive response to the campaign.\n",
    "# Hence, education also has some kind of impact"
   ]
  },
  {
   "cell_type": "markdown",
   "metadata": {},
   "source": [
    "#### Marital vs response rate "
   ]
  },
  {
   "cell_type": "code",
   "execution_count": 83,
   "metadata": {},
   "outputs": [
    {
     "data": {
      "text/plain": [
       "marital\n",
       "divorced    0.119469\n",
       "married     0.101269\n",
       "single      0.149554\n",
       "Name: response_flag, dtype: float64"
      ]
     },
     "execution_count": 83,
     "metadata": {},
     "output_type": "execute_result"
    }
   ],
   "source": [
    "#calculate the mean of response_flag with different marital status categories.\n",
    "inp1.groupby(\"marital\")[\"response_flag\"].mean()"
   ]
  },
  {
   "cell_type": "code",
   "execution_count": 84,
   "metadata": {},
   "outputs": [
    {
     "data": {
      "image/png": "[encoded data removed]",
      "text/plain": [
       "<Figure size 432x288 with 1 Axes>"
      ]
     },
     "metadata": {
      "needs_background": "light"
     },
     "output_type": "display_data"
    }
   ],
   "source": [
    "#plot the bar graph of marital status with average value of response_flag\n",
    "inp1.groupby(\"marital\")[\"response_flag\"].mean().plot.barh()\n",
    "plt.show()\n",
    "\n",
    "#looks like single guys more inclined to open the term deposits then comes the divorced people.\n",
    "#better of targeting the single for positive response to the campaign\n",
    "\n",
    "#Also, based on marital status analysis, you can infer that single individuals have a higher positive response rate. \n",
    "#This could be due to various reasons: One reason could be that compared with other categories of customers, single \n",
    "#individuals have available income to deposit in long-term savings accounts (term deposit). \n",
    "#Hence, the campaign should target single customers."
   ]
  },
  {
   "cell_type": "markdown",
   "metadata": {},
   "source": [
    "#### Loans vs response rate "
   ]
  },
  {
   "cell_type": "code",
   "execution_count": 85,
   "metadata": {},
   "outputs": [
    {
     "data": {
      "image/png": "[encoded data removed]",
      "text/plain": [
       "<Figure size 432x288 with 1 Axes>"
      ]
     },
     "metadata": {
      "needs_background": "light"
     },
     "output_type": "display_data"
    }
   ],
   "source": [
    "#plot the bar graph of personal loan status with average value of response_flag\n",
    "inp1.groupby(\"loan\")[\"response_flag\"].mean().plot.bar()\n",
    "plt.show()\n",
    "# people with loan already are less likely to have positive response to the campaign"
   ]
  },
  {
   "cell_type": "markdown",
   "metadata": {},
   "source": [
    "#### Housing loans vs response rate "
   ]
  },
  {
   "cell_type": "code",
   "execution_count": 86,
   "metadata": {},
   "outputs": [
    {
     "data": {
      "image/png": "[encoded data removed]",
      "text/plain": [
       "<Figure size 432x288 with 1 Axes>"
      ]
     },
     "metadata": {
      "needs_background": "light"
     },
     "output_type": "display_data"
    }
   ],
   "source": [
    "#plot the bar graph of housing loan status with average value of response_flag\n",
    "inp1.groupby(\"housing\")[\"response_flag\"].mean().plot.bar()\n",
    "plt.show()\n",
    "# similarly people with housing loan are less likely to show positive response to the campaign"
   ]
  },
  {
   "cell_type": "markdown",
   "metadata": {},
   "source": [
    "#### Age vs response "
   ]
  },
  {
   "cell_type": "code",
   "execution_count": 87,
   "metadata": {},
   "outputs": [
    {
     "data": {
      "image/png": "[encoded data removed]",
      "text/plain": [
       "<Figure size 432x288 with 1 Axes>"
      ]
     },
     "metadata": {
      "needs_background": "light"
     },
     "output_type": "display_data"
    }
   ],
   "source": [
    "#plot the boxplot of age with response_flag\n",
    "sns.boxplot(x=\"response_flag\",y=\"age\",data=inp1)\n",
    "plt.show()\n",
    "#Median values are almost same. But the upper fence is higher for people who have responded yes."
   ]
  },
  {
   "cell_type": "markdown",
   "metadata": {},
   "source": [
    "##### making buckets from age columns "
   ]
  },
  {
   "cell_type": "code",
   "execution_count": 88,
   "metadata": {},
   "outputs": [
    {
     "data": {
      "text/plain": [
       "30-40    0.391150\n",
       "40-50    0.248727\n",
       "50-60    0.178434\n",
       "<30      0.155579\n",
       "60+      0.026111\n",
       "Name: age_groups, dtype: float64"
      ]
     },
     "execution_count": 88,
     "metadata": {},
     "output_type": "execute_result"
    }
   ],
   "source": [
    "#create the buckets of <30, 30-40, 40-50 50-60 and 60+ from age column.\n",
    "inp1[\"age_groups\"]= pd.cut(inp1.age,[0,30,40,50,60,90],labels=[\"<30\",\"30-40\",\"40-50\",\"50-60\",\"60+\"])\n",
    "inp1.age_groups.value_counts(normalize=True)"
   ]
  },
  {
   "cell_type": "code",
   "execution_count": 89,
   "metadata": {},
   "outputs": [
    {
     "data": {
      "image/png": "[encoded data removed]",
      "text/plain": [
       "<Figure size 720x288 with 2 Axes>"
      ]
     },
     "metadata": {
      "needs_background": "light"
     },
     "output_type": "display_data"
    }
   ],
   "source": [
    "#plot the percentage of each buckets and average values of response_flag in each buckets. plot in subplots.\n",
    "plt.figure(figsize=[10,4])\n",
    "plt.subplot(1,2,1)\n",
    "inp1.groupby(\"age_groups\")[\"response_flag\"].mean().plot.bar()\n",
    "plt.subplot(1,2,2)\n",
    "inp1.age_groups.value_counts(normalize=True).plot.bar()\n",
    "plt.show()\n",
    "\n",
    "#age_groups 60+ very small in representation by far has more positive response.This is pretty high and it is good segment."
   ]
  },
  {
   "cell_type": "code",
   "execution_count": 90,
   "metadata": {},
   "outputs": [
    {
     "data": {
      "image/png": "[encoded data removed]",
      "text/plain": [
       "<Figure size 432x288 with 1 Axes>"
      ]
     },
     "metadata": {
      "needs_background": "light"
     },
     "output_type": "display_data"
    }
   ],
   "source": [
    "#plot the bar graph of job categories with response_flag mean value.\n",
    "inp1.groupby(\"job\")[\"response_flag\"].mean().plot.barh()\n",
    "plt.show()"
   ]
  },
  {
   "cell_type": "markdown",
   "metadata": {},
   "source": [
    "### Multivariate analysis "
   ]
  },
  {
   "cell_type": "markdown",
   "metadata": {},
   "source": [
    "#### Education vs marital vs response "
   ]
  },
  {
   "cell_type": "code",
   "execution_count": 91,
   "metadata": {},
   "outputs": [
    {
     "data": {
      "image/png": "[encoded data removed]",
      "text/plain": [
       "<Figure size 432x288 with 2 Axes>"
      ]
     },
     "metadata": {
      "needs_background": "light"
     },
     "output_type": "display_data"
    }
   ],
   "source": [
    "#create heat map of education vs marital vs response_flag\n",
    "res= pd.pivot_table(data=inp1, index=\"education\",columns=\"marital\",values=\"response_flag\")\n",
    "sns.heatmap(res,annot=True,cmap=\"RdYlGn\",center=0.117)\n",
    "plt.show()\n",
    "\n",
    "# very easily says that deep red cell - primarly educated and married people gives the least response.\n",
    "# And Tertiary educated people and signles give more positive response.\n",
    "\n",
    "#You can see that people who are married and who have completed just their primary education are least likely to give a \n",
    "#positive response on term deposits. This can be explained by the fact that people educated only up to the primary level \n",
    "#are not aware of the benefits of term investments.  Also, married individuals need money to fulfil their daily needs, \n",
    "#and they require cash-on-hand to buy the daily essentials; hence, they won't prefer investing in term deposits."
   ]
  },
  {
   "cell_type": "markdown",
   "metadata": {},
   "source": [
    "#### Job vs marital vs response "
   ]
  },
  {
   "cell_type": "code",
   "execution_count": 92,
   "metadata": {},
   "outputs": [
    {
     "data": {
      "image/png": "[encoded data removed]",
      "text/plain": [
       "<Figure size 432x288 with 2 Axes>"
      ]
     },
     "metadata": {
      "needs_background": "light"
     },
     "output_type": "display_data"
    }
   ],
   "source": [
    "#create the heat map of Job vs marital vs response_flag.\n",
    "mes= pd.pivot_table(data=inp1,index=\"job\",columns=\"marital\",values=\"response_flag\")\n",
    "sns.heatmap(mes,annot=True,cmap=\"RdYlGn\")\n",
    "plt.show()\n",
    "\n",
    "# retired-divorced folks seems to have higher response state.\n",
    "# Also the combinations of married with blue-collar, entrepreneur and housemaid are least likely to go for term deposits. \n",
    "#The highest rate of positive response came from students with single marital status. \n",
    "#The bank should, therefore, consider these aspects before taking any decision."
   ]
  },
  {
   "cell_type": "markdown",
   "metadata": {},
   "source": [
    "#### Education vs poutcome vs response"
   ]
  },
  {
   "cell_type": "code",
   "execution_count": 93,
   "metadata": {},
   "outputs": [
    {
     "data": {
      "image/png": "[encoded data removed]",
      "text/plain": [
       "<Figure size 432x288 with 2 Axes>"
      ]
     },
     "metadata": {
      "needs_background": "light"
     },
     "output_type": "display_data"
    }
   ],
   "source": [
    "#create the heat map of education vs poutcome vs response_flag.\n",
    "pes = pd.pivot_table(data=inp1, index=\"education\",columns=\"poutcome\",values=\"response_flag\")\n",
    "sns.heatmap(pes,annot=True,cmap=\"RdYlGn\",center=0.23)\n",
    "plt.show()\n"
   ]
  },
  {
   "cell_type": "code",
   "execution_count": 94,
   "metadata": {},
   "outputs": [
    {
     "data": {
      "text/plain": [
       "0.2307785593014795"
      ]
     },
     "execution_count": 94,
     "metadata": {},
     "output_type": "execute_result"
    }
   ],
   "source": [
    "inp1[inp1.pdays>0].response_flag.mean()"
   ]
  },
  {
   "cell_type": "code",
   "execution_count": null,
   "metadata": {},
   "outputs": [],
   "source": []
  }
 ],
 "metadata": {
  "kernelspec": {
   "display_name": "Python 3",
   "language": "python",
   "name": "python3"
  },
  "language_info": {
   "codemirror_mode": {
    "name": "ipython",
    "version": 3
   },
   "file_extension": ".py",
   "mimetype": "text/x-python",
   "name": "python",
   "nbconvert_exporter": "python",
   "pygments_lexer": "ipython3",
   "version": "3.7.4"
  }
 },
 "nbformat": 4,
 "nbformat_minor": 2
}
